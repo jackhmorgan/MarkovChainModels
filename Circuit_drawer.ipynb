{
 "cells": [
  {
   "cell_type": "code",
   "execution_count": 1,
   "metadata": {},
   "outputs": [],
   "source": [
    "from markov_chain_models import DynamicCreditRisk"
   ]
  },
  {
   "cell_type": "code",
   "execution_count": 13,
   "metadata": {},
   "outputs": [],
   "source": [
    "import warnings\n",
    "from typing import Optional, List, Callable, Union\n",
    "import numpy\n",
    "\n",
    "from qiskit.circuit import QuantumCircuit, QuantumRegister\n",
    "from qiskit.circuit.library import GroverOperator\n",
    "\n",
    "\n",
    "class EstimationProblem:\n",
    "    \"\"\"The estimation problem is the input to amplitude estimation algorithm.\n",
    "\n",
    "    This class contains all problem-specific information required to run an amplitude estimation\n",
    "    algorithm. That means, it minimally contains the state preparation and the specification\n",
    "    of the good state. It can further hold some post processing on the estimation of the amplitude\n",
    "    or a custom Grover operator.\n",
    "    \"\"\"\n",
    "\n",
    "    def __init__(\n",
    "        self,\n",
    "        state_preparation: QuantumCircuit,\n",
    "        objective_qubits: Union[int, List[int]],\n",
    "        grover_operator: Optional[QuantumCircuit] = None,\n",
    "        post_processing: Optional[Callable[[float], float]] = None,\n",
    "        is_good_state: Optional[Callable[[str], bool]] = None,\n",
    "    ) -> None:\n",
    "        r\"\"\"\n",
    "        Args:\n",
    "            state_preparation: A circuit preparing the input state, referred to as\n",
    "                :math:`\\mathcal{A}`.\n",
    "            objective_qubits: A single qubit index or a list of qubit indices to specify which\n",
    "                qubits to measure. The ``is_good_state`` function is applied on the bitstring of\n",
    "                these objective qubits.\n",
    "            grover_operator: The Grover operator :math:`\\mathcal{Q}` used as unitary in the\n",
    "                phase estimation circuit.\n",
    "            post_processing: A mapping applied to the result of the algorithm\n",
    "                :math:`0 \\leq a \\leq 1`, usually used to map the estimate to a target interval.\n",
    "                Defaults to the identity.\n",
    "            is_good_state: A function to check whether a string represents a good state. Defaults\n",
    "                to all objective qubits being in state :math:`|1\\rangle`.\n",
    "        \"\"\"\n",
    "        self._state_preparation = state_preparation\n",
    "        self._objective_qubits = objective_qubits\n",
    "        self._grover_operator = grover_operator\n",
    "        self._post_processing = post_processing\n",
    "        self._is_good_state = is_good_state\n",
    "\n",
    "    @property\n",
    "    def state_preparation(self) -> Optional[QuantumCircuit]:\n",
    "        r\"\"\"Get the :math:`\\mathcal{A}` operator encoding the amplitude :math:`a`.\n",
    "\n",
    "        Returns:\n",
    "            The :math:`\\mathcal{A}` operator as `QuantumCircuit`.\n",
    "        \"\"\"\n",
    "        return self._state_preparation\n",
    "\n",
    "    @state_preparation.setter\n",
    "    def state_preparation(self, state_preparation: QuantumCircuit) -> None:\n",
    "        r\"\"\"Set the :math:`\\mathcal{A}` operator, that encodes the amplitude to be estimated.\n",
    "\n",
    "        Args:\n",
    "            state_preparation: The new :math:`\\mathcal{A}` operator.\n",
    "        \"\"\"\n",
    "        self._state_preparation = state_preparation\n",
    "\n",
    "    @property\n",
    "    def objective_qubits(self) -> List[int]:\n",
    "        \"\"\"Get the criterion for a measurement outcome to be in a 'good' state.\n",
    "\n",
    "        Returns:\n",
    "            The criterion as list of qubit indices.\n",
    "        \"\"\"\n",
    "        if isinstance(self._objective_qubits, int):\n",
    "            return [self._objective_qubits]\n",
    "\n",
    "        return self._objective_qubits\n",
    "\n",
    "    @objective_qubits.setter\n",
    "    def objective_qubits(self, objective_qubits: Union[int, List[int]]) -> None:\n",
    "        \"\"\"Set the criterion for a measurement outcome to be in a 'good' state.\n",
    "\n",
    "        Args:\n",
    "            objective_qubits: The criterion as callable of list of qubit indices.\n",
    "        \"\"\"\n",
    "        self._objective_qubits = objective_qubits\n",
    "\n",
    "    @property\n",
    "    def post_processing(self) -> Callable[[float], float]:\n",
    "        \"\"\"Apply post processing to the input value.\n",
    "\n",
    "        Returns:\n",
    "            A handle to the post processing function. Acts as identity by default.\n",
    "        \"\"\"\n",
    "        if self._post_processing is None:\n",
    "            return lambda x: x\n",
    "\n",
    "        return self._post_processing\n",
    "\n",
    "    @post_processing.setter\n",
    "    def post_processing(self, post_processing: Optional[Callable[[float], float]]) -> None:\n",
    "        \"\"\"Set the post processing function.\n",
    "\n",
    "        Args:\n",
    "            post_processing: A handle to the post processing function. If set to ``None``, the\n",
    "                identity will be used as post processing.\n",
    "        \"\"\"\n",
    "        self._post_processing = post_processing\n",
    "\n",
    "    @property\n",
    "    def is_good_state(self) -> Callable[[str], bool]:\n",
    "        \"\"\"Checks whether a bitstring represents a good state.\n",
    "\n",
    "        Returns:\n",
    "            Handle to the ``is_good_state`` callable.\n",
    "        \"\"\"\n",
    "        if self._is_good_state is None:\n",
    "            return lambda x: all(bit == \"1\" for bit in x)\n",
    "\n",
    "        return self._is_good_state\n",
    "\n",
    "    @is_good_state.setter\n",
    "    def is_good_state(self, is_good_state: Optional[Callable[[str], bool]]) -> None:\n",
    "        \"\"\"Set the ``is_good_state`` function.\n",
    "\n",
    "        Args:\n",
    "            is_good_state: A function to determine whether a bitstring represents a good state.\n",
    "                If set to ``None``, the good state will be defined as all bits being one.\n",
    "        \"\"\"\n",
    "        self._is_good_state = is_good_state\n",
    "\n",
    "    @property\n",
    "    def grover_operator(self) -> Optional[QuantumCircuit]:\n",
    "        r\"\"\"Get the :math:`\\mathcal{Q}` operator, or Grover operator.\n",
    "\n",
    "        If the Grover operator is not set, we try to build it from the :math:`\\mathcal{A}` operator\n",
    "        and `objective_qubits`. This only works if `objective_qubits` is a list of integers.\n",
    "\n",
    "        Returns:\n",
    "            The Grover operator, or None if neither the Grover operator nor the\n",
    "            :math:`\\mathcal{A}` operator is  set.\n",
    "        \"\"\"\n",
    "        if self._grover_operator is not None:\n",
    "            return self._grover_operator\n",
    "\n",
    "        # build the reflection about the bad state: a MCZ with open controls (thus X gates\n",
    "        # around the controls) and X gates around the target to change from a phaseflip on\n",
    "        # |1> to a phaseflip on |0>\n",
    "        num_state_qubits = self.state_preparation.num_qubits - self.state_preparation.num_ancillas\n",
    "\n",
    "        oracle = QuantumCircuit(num_state_qubits)\n",
    "        oracle.h(self.objective_qubits[-1])\n",
    "        if len(self.objective_qubits) == 1:\n",
    "            oracle.x(self.objective_qubits[0])\n",
    "        else:\n",
    "            oracle.mcx(self.objective_qubits[:-1], self.objective_qubits[-1])\n",
    "        oracle.h(self.objective_qubits[-1])\n",
    "\n",
    "        # construct the grover operator\n",
    "        return GroverOperator(oracle, self.state_preparation)\n",
    "\n",
    "    @grover_operator.setter\n",
    "    def grover_operator(self, grover_operator: Optional[QuantumCircuit]) -> None:\n",
    "        r\"\"\"Set the :math:`\\mathcal{Q}` operator.\n",
    "\n",
    "        Args:\n",
    "            grover_operator: The new :math:`\\mathcal{Q}` operator. If set to ``None``,\n",
    "                the default construction via ``qiskit.circuit.library.GroverOperator`` is used.\n",
    "        \"\"\"\n",
    "        self._grover_operator = grover_operator\n",
    "\n",
    "    def rescale(self, scaling_factor: float) -> \"EstimationProblem\":\n",
    "        \"\"\"Rescale the good state amplitude in the estimation problem.\n",
    "\n",
    "        Args:\n",
    "            scaling_factor: The scaling factor in [0, 1].\n",
    "\n",
    "        Returns:\n",
    "            A rescaled estimation problem.\n",
    "        \"\"\"\n",
    "        if self._grover_operator is not None:\n",
    "            warnings.warn(\"Rescaling discards the Grover operator.\")\n",
    "\n",
    "        # rescale the amplitude by a factor of 1/4 by adding an auxiliary qubit\n",
    "        rescaled_stateprep = _rescale_amplitudes(self.state_preparation, scaling_factor)\n",
    "        num_qubits = self.state_preparation.num_qubits\n",
    "        objective_qubits = self.objective_qubits + [num_qubits]\n",
    "\n",
    "        # add the scaling qubit to the good state qualifier\n",
    "        def is_good_state(bitstr):\n",
    "            # pylint: disable=not-callable\n",
    "            return self.is_good_state(bitstr[1:]) and bitstr[0] == \"1\"\n",
    "\n",
    "        # rescaled estimation problem\n",
    "        problem = EstimationProblem(\n",
    "            rescaled_stateprep,\n",
    "            objective_qubits=objective_qubits,\n",
    "            post_processing=self.post_processing,\n",
    "            is_good_state=is_good_state,\n",
    "        )\n",
    "\n",
    "        return problem\n",
    "\n",
    "\n",
    "def _rescale_amplitudes(circuit: QuantumCircuit, scaling_factor: float) -> QuantumCircuit:\n",
    "    r\"\"\"Uses an auxiliary qubit to scale the amplitude of :math:`|1\\rangle` by ``scaling_factor``.\n",
    "\n",
    "    Explained in Section 2.1. of [1].\n",
    "\n",
    "    For example, for a scaling factor of 0.25 this turns this circuit\n",
    "\n",
    "    .. code-block::\n",
    "\n",
    "                      ┌───┐\n",
    "        state_0: ─────┤ H ├─────────■────\n",
    "                  ┌───┴───┴───┐ ┌───┴───┐\n",
    "          obj_0: ─┤ RY(0.125) ├─┤ RY(1) ├\n",
    "                  └───────────┘ └───────┘\n",
    "\n",
    "    into\n",
    "\n",
    "    .. code-block::\n",
    "\n",
    "                      ┌───┐\n",
    "        state_0: ─────┤ H ├─────────■────\n",
    "                  ┌───┴───┴───┐ ┌───┴───┐\n",
    "          obj_0: ─┤ RY(0.125) ├─┤ RY(1) ├\n",
    "                 ┌┴───────────┴┐└───────┘\n",
    "      scaling_0: ┤ RY(0.50536) ├─────────\n",
    "                 └─────────────┘\n",
    "\n",
    "    References:\n",
    "\n",
    "        [1]: K. Nakaji. Faster Amplitude Estimation, 2020;\n",
    "            `arXiv:2002.02417 <https://arxiv.org/pdf/2003.02417.pdf>`_\n",
    "\n",
    "    Args:\n",
    "        circuit: The circuit whose amplitudes to rescale.\n",
    "        scaling_factor: The rescaling factor.\n",
    "\n",
    "    Returns:\n",
    "        A copy of the circuit with an additional qubit and RY gate for the rescaling.\n",
    "    \"\"\"\n",
    "    qr = QuantumRegister(1, \"scaling\")\n",
    "    rescaled = QuantumCircuit(*circuit.qregs, qr)\n",
    "    rescaled.compose(circuit, circuit.qubits, inplace=True)\n",
    "    rescaled.ry(2 * numpy.arcsin(scaling_factor), qr)\n",
    "    return rescaled"
   ]
  },
  {
   "cell_type": "code",
   "execution_count": 26,
   "metadata": {},
   "outputs": [],
   "source": [
    "from qiskit import ClassicalRegister\n",
    "\n",
    "def construct_circuits(\n",
    "        estimation_problem: EstimationProblem, measurement: bool = False\n",
    "    ) -> List[QuantumCircuit]:\n",
    "        \"\"\"Construct the Amplitude Estimation w/o QPE quantum circuits.\n",
    "\n",
    "        Args:\n",
    "            estimation_problem: The estimation problem for which to construct the QAE circuit.\n",
    "            measurement: Boolean flag to indicate if measurement should be included in the circuits.\n",
    "\n",
    "        Returns:\n",
    "            A list with the QuantumCircuit objects for the algorithm.\n",
    "        \"\"\"\n",
    "        # keep track of the Q-oracle queries\n",
    "        circuits = []\n",
    "\n",
    "        num_qubits = max(\n",
    "            estimation_problem.state_preparation.num_qubits,\n",
    "            estimation_problem.grover_operator.num_qubits,\n",
    "        )\n",
    "        q = QuantumRegister(num_qubits, \"q\")\n",
    "        qc_0 = QuantumCircuit(q, name=\"qc_a\")  # 0 applications of Q, only a single A operator\n",
    "\n",
    "        # add classical register if needed\n",
    "        if measurement:\n",
    "            c = ClassicalRegister(len(estimation_problem.objective_qubits))\n",
    "            qc_0.add_register(c)\n",
    "\n",
    "        qc_0.compose(estimation_problem.state_preparation, inplace=True)\n",
    "\n",
    "        for k in [0,1,2,4]:\n",
    "            qc_k = qc_0.copy(name=\"qc_a_q_%s\" % k)\n",
    "\n",
    "            if k != 0:\n",
    "                qc_k.compose(estimation_problem.grover_operator.power(k), inplace=True)\n",
    "\n",
    "            if measurement:\n",
    "                # real hardware can currently not handle operations after measurements,\n",
    "                # which might happen if the circuit gets transpiled, hence we're adding\n",
    "                # a safeguard-barrier\n",
    "                qc_k.barrier()\n",
    "                qc_k.measure(estimation_problem.objective_qubits, c[:])\n",
    "\n",
    "            circuits += [qc_k]\n",
    "\n",
    "        return circuits\n"
   ]
  },
  {
   "cell_type": "code",
   "execution_count": 27,
   "metadata": {},
   "outputs": [],
   "source": [
    "A = DynamicCreditRisk(0.9,3,fractional_precision=4)"
   ]
  },
  {
   "cell_type": "code",
   "execution_count": 28,
   "metadata": {},
   "outputs": [],
   "source": [
    "problem = EstimationProblem(\n",
    "    state_preparation=A,  # A operatorr\n",
    "    objective_qubits=A.objective,  # the \"good\" state Psi1 is identified as measuring |1> in qubit 0\n",
    ")"
   ]
  },
  {
   "cell_type": "code",
   "execution_count": 32,
   "metadata": {},
   "outputs": [],
   "source": [
    "circuits = construct_circuits(estimation_problem=problem, measurement=True)\n",
    "\n",
    "largest_circuit = circuits[-1]"
   ]
  },
  {
   "cell_type": "code",
   "execution_count": 33,
   "metadata": {},
   "outputs": [],
   "source": [
    "from pytket.extensions.qiskit import qiskit_to_tk"
   ]
  },
  {
   "cell_type": "code",
   "execution_count": 36,
   "metadata": {},
   "outputs": [],
   "source": [
    "tk = qiskit_to_tk(largest_circuit.decompose(reps=6))"
   ]
  },
  {
   "cell_type": "code",
   "execution_count": 37,
   "metadata": {},
   "outputs": [],
   "source": [
    "from pytket.extensions.quantinuum import QuantinuumBackend"
   ]
  },
  {
   "cell_type": "code",
   "execution_count": 54,
   "metadata": {},
   "outputs": [],
   "source": [
    "h1_backend = QuantinuumBackend(\"H1-1\", machine_debug=True)"
   ]
  },
  {
   "cell_type": "code",
   "execution_count": 58,
   "metadata": {},
   "outputs": [
    {
     "ename": "TypeError",
     "evalue": "QuantinuumBackend.get_result() missing 1 required positional argument: 'handle'",
     "output_type": "error",
     "traceback": [
      "\u001b[1;31m---------------------------------------------------------------------------\u001b[0m",
      "\u001b[1;31mTypeError\u001b[0m                                 Traceback (most recent call last)",
      "Cell \u001b[1;32mIn[58], line 2\u001b[0m\n\u001b[0;32m      1\u001b[0m \u001b[38;5;28mdir\u001b[39m(h1_backend)\n\u001b[1;32m----> 2\u001b[0m \u001b[43mh1_backend\u001b[49m\u001b[38;5;241;43m.\u001b[39;49m\u001b[43mget_result\u001b[49m\u001b[43m(\u001b[49m\u001b[43m)\u001b[49m\n",
      "\u001b[1;31mTypeError\u001b[0m: QuantinuumBackend.get_result() missing 1 required positional argument: 'handle'"
     ]
    }
   ],
   "source": [
    "dir(h1_backend)\n",
    "h1_backend.get_result()"
   ]
  },
  {
   "cell_type": "code",
   "execution_count": 39,
   "metadata": {},
   "outputs": [
    {
     "data": {
      "text/plain": [
       "4892"
      ]
     },
     "execution_count": 39,
     "metadata": {},
     "output_type": "execute_result"
    }
   ],
   "source": [
    "compiled_circ = h1_backend.get_compiled_circuit(tk)\n",
    "compiled_circ.depth()"
   ]
  },
  {
   "cell_type": "code",
   "execution_count": 40,
   "metadata": {},
   "outputs": [
    {
     "data": {
      "text/plain": [
       "[q[0], q[1], q[2], q[3], q[4], q[5], q[6], q[7], q[8], q[9], q[10], q[11]]"
      ]
     },
     "execution_count": 40,
     "metadata": {},
     "output_type": "execute_result"
    }
   ],
   "source": [
    "compiled_circ.qubits"
   ]
  },
  {
   "cell_type": "code",
   "execution_count": 41,
   "metadata": {},
   "outputs": [
    {
     "ename": "TypeError",
     "evalue": "The backend argument requires a BackendV2 or BackendV1 object, not a <class 'str'> object",
     "output_type": "error",
     "traceback": [
      "\u001b[1;31m---------------------------------------------------------------------------\u001b[0m",
      "\u001b[1;31mTypeError\u001b[0m                                 Traceback (most recent call last)",
      "Cell \u001b[1;32mIn[41], line 3\u001b[0m\n\u001b[0;32m      1\u001b[0m \u001b[38;5;28;01mfrom\u001b[39;00m \u001b[38;5;21;01mqiskit_aer\u001b[39;00m \u001b[38;5;28;01mimport\u001b[39;00m AerSimulator\n\u001b[1;32m----> 3\u001b[0m sim \u001b[38;5;241m=\u001b[39m \u001b[43mAerSimulator\u001b[49m\u001b[38;5;241;43m.\u001b[39;49m\u001b[43mfrom_backend\u001b[49m\u001b[43m(\u001b[49m\u001b[38;5;124;43m'\u001b[39;49m\u001b[38;5;124;43mibm_torino\u001b[39;49m\u001b[38;5;124;43m'\u001b[39;49m\u001b[43m)\u001b[49m\n",
      "File \u001b[1;32mc:\\Users\\19899\\Miniconda\\envs\\quantinuum\\Lib\\site-packages\\qiskit_aer\\backends\\aer_simulator.py:880\u001b[0m, in \u001b[0;36mAerSimulator.from_backend\u001b[1;34m(cls, backend, **options)\u001b[0m\n\u001b[0;32m    878\u001b[0m     target \u001b[38;5;241m=\u001b[39m convert_to_target(configuration, properties, \u001b[38;5;28;01mNone\u001b[39;00m, NAME_MAPPING)\n\u001b[0;32m    879\u001b[0m \u001b[38;5;28;01melse\u001b[39;00m:\n\u001b[1;32m--> 880\u001b[0m     \u001b[38;5;28;01mraise\u001b[39;00m \u001b[38;5;167;01mTypeError\u001b[39;00m(\n\u001b[0;32m    881\u001b[0m         \u001b[38;5;124m\"\u001b[39m\u001b[38;5;124mThe backend argument requires a BackendV2 or BackendV1 object, \u001b[39m\u001b[38;5;124m\"\u001b[39m\n\u001b[0;32m    882\u001b[0m         \u001b[38;5;124mf\u001b[39m\u001b[38;5;124m\"\u001b[39m\u001b[38;5;124mnot a \u001b[39m\u001b[38;5;132;01m{\u001b[39;00m\u001b[38;5;28mtype\u001b[39m(backend)\u001b[38;5;132;01m}\u001b[39;00m\u001b[38;5;124m object\u001b[39m\u001b[38;5;124m\"\u001b[39m\n\u001b[0;32m    883\u001b[0m     )\n\u001b[0;32m    884\u001b[0m \u001b[38;5;66;03m# Use automatic noise model if none is provided\u001b[39;00m\n\u001b[0;32m    885\u001b[0m \u001b[38;5;28;01mif\u001b[39;00m \u001b[38;5;124m\"\u001b[39m\u001b[38;5;124mnoise_model\u001b[39m\u001b[38;5;124m\"\u001b[39m \u001b[38;5;129;01mnot\u001b[39;00m \u001b[38;5;129;01min\u001b[39;00m options:\n\u001b[0;32m    886\u001b[0m     \u001b[38;5;66;03m# pylint: disable=import-outside-toplevel\u001b[39;00m\n\u001b[0;32m    887\u001b[0m     \u001b[38;5;66;03m# Avoid cyclic import\u001b[39;00m\n",
      "\u001b[1;31mTypeError\u001b[0m: The backend argument requires a BackendV2 or BackendV1 object, not a <class 'str'> object"
     ]
    }
   ],
   "source": [
    "from qiskit_aer import AerSimulator\n",
    "\n",
    "sim = AerSimulator.from_backend('ibm_torino')"
   ]
  },
  {
   "cell_type": "code",
   "execution_count": 48,
   "metadata": {},
   "outputs": [],
   "source": [
    "from qiskit_ibm_runtime.fake_provider import FakeTorino\n",
    "from qiskit import transpile\n",
    "\n",
    "torino = FakeTorino()"
   ]
  },
  {
   "cell_type": "code",
   "execution_count": 49,
   "metadata": {},
   "outputs": [
    {
     "data": {
      "text/plain": [
       "<function qiskit.compiler.transpiler.transpile(circuits: ~_CircuitT, backend: Optional[qiskit.providers.backend.Backend] = None, basis_gates: Optional[List[str]] = None, inst_map: Optional[List[qiskit.pulse.instruction_schedule_map.InstructionScheduleMap]] = None, coupling_map: Union[qiskit.transpiler.coupling.CouplingMap, List[List[int]], NoneType] = None, backend_properties: Optional[qiskit.providers.models.backendproperties.BackendProperties] = None, initial_layout: Union[qiskit.transpiler.layout.Layout, Dict, List, NoneType] = None, layout_method: Optional[str] = None, routing_method: Optional[str] = None, translation_method: Optional[str] = None, scheduling_method: Optional[str] = None, instruction_durations: Union[List[Tuple[str, Optional[Iterable[int]], float, Optional[Iterable[float]], str]], List[Tuple[str, Optional[Iterable[int]], float, Optional[Iterable[float]]]], List[Tuple[str, Optional[Iterable[int]], float, str]], List[Tuple[str, Optional[Iterable[int]], float]], qiskit.transpiler.instruction_durations.InstructionDurations, NoneType] = None, dt: Optional[float] = None, approximation_degree: Optional[float] = 1.0, timing_constraints: Optional[Dict[str, int]] = None, seed_transpiler: Optional[int] = None, optimization_level: Optional[int] = None, callback: Optional[Callable[[qiskit.transpiler.basepasses.BasePass, qiskit.dagcircuit.dagcircuit.DAGCircuit, float, qiskit.passmanager.compilation_status.PropertySet, int], Any]] = None, output_name: Union[str, List[str], NoneType] = None, unitary_synthesis_method: str = 'default', unitary_synthesis_plugin_config: Optional[dict] = None, target: Optional[qiskit.transpiler.target.Target] = None, hls_config: Optional[qiskit.transpiler.passes.synthesis.high_level_synthesis.HLSConfig] = None, init_method: Optional[str] = None, optimization_method: Optional[str] = None, ignore_backend_supplied_default_methods: bool = False, num_processes: Optional[int] = None) -> ~_CircuitT>"
      ]
     },
     "execution_count": 49,
     "metadata": {},
     "output_type": "execute_result"
    }
   ],
   "source": [
    "transpile"
   ]
  },
  {
   "cell_type": "code",
   "execution_count": 50,
   "metadata": {},
   "outputs": [],
   "source": [
    "qk = transpile(largest_circuit, torino)"
   ]
  },
  {
   "cell_type": "code",
   "execution_count": 51,
   "metadata": {},
   "outputs": [
    {
     "data": {
      "text/plain": [
       "25650"
      ]
     },
     "execution_count": 51,
     "metadata": {},
     "output_type": "execute_result"
    }
   ],
   "source": [
    "qk.depth()"
   ]
  },
  {
   "cell_type": "code",
   "execution_count": 53,
   "metadata": {},
   "outputs": [
    {
     "data": {
      "text/plain": [
       "133"
      ]
     },
     "execution_count": 53,
     "metadata": {},
     "output_type": "execute_result"
    }
   ],
   "source": [
    "qk.num_qubits"
   ]
  },
  {
   "cell_type": "code",
   "execution_count": 59,
   "metadata": {},
   "outputs": [],
   "source": [
    "from pytket.backends.resulthandle import ResultHandle as rs\n",
    "\n",
    "def ResultHandle(arg1,arg2,arg3,arg4):\n",
    "    return rs.from_str(\"('\"+arg1+\"', '\"+arg2+\"', \"+str(arg3)+\", '\"+arg4+\"')\")"
   ]
  },
  {
   "cell_type": "code",
   "execution_count": 62,
   "metadata": {},
   "outputs": [],
   "source": [
    "handle = ResultHandle('58ef39af2956446aa8756f087531dd3b', 'null', 1, '[[\\\"c\\\", 0]]')"
   ]
  },
  {
   "cell_type": "code",
   "execution_count": 63,
   "metadata": {},
   "outputs": [
    {
     "ename": "ValueError",
     "evalue": "malformed node or string on line 1: <ast.Name object at 0x00000202146DAF80>",
     "output_type": "error",
     "traceback": [
      "\u001b[1;31m---------------------------------------------------------------------------\u001b[0m",
      "\u001b[1;31mCircuitNotRunError\u001b[0m                        Traceback (most recent call last)",
      "File \u001b[1;32mc:\\Users\\19899\\Miniconda\\envs\\quantinuum\\Lib\\site-packages\\pytket\\extensions\\quantinuum\\backends\\quantinuum.py:1268\u001b[0m, in \u001b[0;36mQuantinuumBackend.get_result\u001b[1;34m(self, handle, **kwargs)\u001b[0m\n\u001b[0;32m   1267\u001b[0m \u001b[38;5;28;01mtry\u001b[39;00m:\n\u001b[1;32m-> 1268\u001b[0m     \u001b[38;5;28;01mreturn\u001b[39;00m \u001b[38;5;28;43msuper\u001b[39;49m\u001b[43m(\u001b[49m\u001b[43m)\u001b[49m\u001b[38;5;241;43m.\u001b[39;49m\u001b[43mget_result\u001b[49m\u001b[43m(\u001b[49m\u001b[43mhandle\u001b[49m\u001b[43m)\u001b[49m\n\u001b[0;32m   1269\u001b[0m \u001b[38;5;28;01mexcept\u001b[39;00m CircuitNotRunError:\n",
      "File \u001b[1;32mc:\\Users\\19899\\Miniconda\\envs\\quantinuum\\Lib\\site-packages\\pytket\\backends\\backend.py:347\u001b[0m, in \u001b[0;36mBackend.get_result\u001b[1;34m(self, handle, **kwargs)\u001b[0m\n\u001b[0;32m    346\u001b[0m     \u001b[38;5;28;01mreturn\u001b[39;00m cast(BackendResult, \u001b[38;5;28mself\u001b[39m\u001b[38;5;241m.\u001b[39m_cache[handle][\u001b[38;5;124m\"\u001b[39m\u001b[38;5;124mresult\u001b[39m\u001b[38;5;124m\"\u001b[39m])\n\u001b[1;32m--> 347\u001b[0m \u001b[38;5;28;01mraise\u001b[39;00m CircuitNotRunError(handle)\n",
      "\u001b[1;31mCircuitNotRunError\u001b[0m: Circuit corresponding to ResultHandle('58ef39af2956446aa8756f087531dd3b', 'null', 1, '[[\"c\", 0]]') has not been run by this backend instance.",
      "\nDuring handling of the above exception, another exception occurred:\n",
      "\u001b[1;31mValueError\u001b[0m                                Traceback (most recent call last)",
      "Cell \u001b[1;32mIn[63], line 1\u001b[0m\n\u001b[1;32m----> 1\u001b[0m \u001b[43mh1_backend\u001b[49m\u001b[38;5;241;43m.\u001b[39;49m\u001b[43mget_result\u001b[49m\u001b[43m(\u001b[49m\u001b[43mhandle\u001b[49m\u001b[38;5;241;43m=\u001b[39;49m\u001b[43mhandle\u001b[49m\u001b[43m)\u001b[49m\n",
      "File \u001b[1;32mc:\\Users\\19899\\Miniconda\\envs\\quantinuum\\Lib\\site-packages\\pytket\\extensions\\quantinuum\\backends\\quantinuum.py:1279\u001b[0m, in \u001b[0;36mQuantinuumBackend.get_result\u001b[1;34m(self, handle, **kwargs)\u001b[0m\n\u001b[0;32m   1277\u001b[0m \u001b[38;5;28;01mif\u001b[39;00m \u001b[38;5;28mself\u001b[39m\u001b[38;5;241m.\u001b[39m_MACHINE_DEBUG \u001b[38;5;129;01mor\u001b[39;00m jobid\u001b[38;5;241m.\u001b[39mstartswith(_DEBUG_HANDLE_PREFIX):\n\u001b[0;32m   1278\u001b[0m     debug_handle_info \u001b[38;5;241m=\u001b[39m jobid[\u001b[38;5;28mlen\u001b[39m(_DEBUG_HANDLE_PREFIX) :]\n\u001b[1;32m-> 1279\u001b[0m     n_qubits, shots \u001b[38;5;241m=\u001b[39m \u001b[43mliteral_eval\u001b[49m\u001b[43m(\u001b[49m\u001b[43mdebug_handle_info\u001b[49m\u001b[43m)\u001b[49m\n\u001b[0;32m   1280\u001b[0m     \u001b[38;5;28;01mreturn\u001b[39;00m _convert_result(\n\u001b[0;32m   1281\u001b[0m         {\u001b[38;5;124m\"\u001b[39m\u001b[38;5;124mc\u001b[39m\u001b[38;5;124m\"\u001b[39m: ([\u001b[38;5;124m\"\u001b[39m\u001b[38;5;124m0\u001b[39m\u001b[38;5;124m\"\u001b[39m \u001b[38;5;241m*\u001b[39m n_qubits] \u001b[38;5;241m*\u001b[39m shots)}, ppcirc, n_bits, results_selection\n\u001b[0;32m   1282\u001b[0m     )\n\u001b[0;32m   1283\u001b[0m \u001b[38;5;28;01mif\u001b[39;00m \u001b[38;5;28mself\u001b[39m\u001b[38;5;241m.\u001b[39mis_local_emulator:\n",
      "File \u001b[1;32mc:\\Users\\19899\\Miniconda\\envs\\quantinuum\\Lib\\ast.py:108\u001b[0m, in \u001b[0;36mliteral_eval\u001b[1;34m(node_or_string)\u001b[0m\n\u001b[0;32m    106\u001b[0m                 \u001b[38;5;28;01mreturn\u001b[39;00m left \u001b[38;5;241m-\u001b[39m right\n\u001b[0;32m    107\u001b[0m     \u001b[38;5;28;01mreturn\u001b[39;00m _convert_signed_num(node)\n\u001b[1;32m--> 108\u001b[0m \u001b[38;5;28;01mreturn\u001b[39;00m \u001b[43m_convert\u001b[49m\u001b[43m(\u001b[49m\u001b[43mnode_or_string\u001b[49m\u001b[43m)\u001b[49m\n",
      "File \u001b[1;32mc:\\Users\\19899\\Miniconda\\envs\\quantinuum\\Lib\\ast.py:107\u001b[0m, in \u001b[0;36mliteral_eval.<locals>._convert\u001b[1;34m(node)\u001b[0m\n\u001b[0;32m    105\u001b[0m         \u001b[38;5;28;01melse\u001b[39;00m:\n\u001b[0;32m    106\u001b[0m             \u001b[38;5;28;01mreturn\u001b[39;00m left \u001b[38;5;241m-\u001b[39m right\n\u001b[1;32m--> 107\u001b[0m \u001b[38;5;28;01mreturn\u001b[39;00m \u001b[43m_convert_signed_num\u001b[49m\u001b[43m(\u001b[49m\u001b[43mnode\u001b[49m\u001b[43m)\u001b[49m\n",
      "File \u001b[1;32mc:\\Users\\19899\\Miniconda\\envs\\quantinuum\\Lib\\ast.py:81\u001b[0m, in \u001b[0;36mliteral_eval.<locals>._convert_signed_num\u001b[1;34m(node)\u001b[0m\n\u001b[0;32m     79\u001b[0m     \u001b[38;5;28;01melse\u001b[39;00m:\n\u001b[0;32m     80\u001b[0m         \u001b[38;5;28;01mreturn\u001b[39;00m \u001b[38;5;241m-\u001b[39m operand\n\u001b[1;32m---> 81\u001b[0m \u001b[38;5;28;01mreturn\u001b[39;00m \u001b[43m_convert_num\u001b[49m\u001b[43m(\u001b[49m\u001b[43mnode\u001b[49m\u001b[43m)\u001b[49m\n",
      "File \u001b[1;32mc:\\Users\\19899\\Miniconda\\envs\\quantinuum\\Lib\\ast.py:72\u001b[0m, in \u001b[0;36mliteral_eval.<locals>._convert_num\u001b[1;34m(node)\u001b[0m\n\u001b[0;32m     70\u001b[0m \u001b[38;5;28;01mdef\u001b[39;00m \u001b[38;5;21m_convert_num\u001b[39m(node):\n\u001b[0;32m     71\u001b[0m     \u001b[38;5;28;01mif\u001b[39;00m \u001b[38;5;129;01mnot\u001b[39;00m \u001b[38;5;28misinstance\u001b[39m(node, Constant) \u001b[38;5;129;01mor\u001b[39;00m \u001b[38;5;28mtype\u001b[39m(node\u001b[38;5;241m.\u001b[39mvalue) \u001b[38;5;129;01mnot\u001b[39;00m \u001b[38;5;129;01min\u001b[39;00m (\u001b[38;5;28mint\u001b[39m, \u001b[38;5;28mfloat\u001b[39m, \u001b[38;5;28mcomplex\u001b[39m):\n\u001b[1;32m---> 72\u001b[0m         \u001b[43m_raise_malformed_node\u001b[49m\u001b[43m(\u001b[49m\u001b[43mnode\u001b[49m\u001b[43m)\u001b[49m\n\u001b[0;32m     73\u001b[0m     \u001b[38;5;28;01mreturn\u001b[39;00m node\u001b[38;5;241m.\u001b[39mvalue\n",
      "File \u001b[1;32mc:\\Users\\19899\\Miniconda\\envs\\quantinuum\\Lib\\ast.py:69\u001b[0m, in \u001b[0;36mliteral_eval.<locals>._raise_malformed_node\u001b[1;34m(node)\u001b[0m\n\u001b[0;32m     67\u001b[0m \u001b[38;5;28;01mif\u001b[39;00m lno \u001b[38;5;241m:=\u001b[39m \u001b[38;5;28mgetattr\u001b[39m(node, \u001b[38;5;124m'\u001b[39m\u001b[38;5;124mlineno\u001b[39m\u001b[38;5;124m'\u001b[39m, \u001b[38;5;28;01mNone\u001b[39;00m):\n\u001b[0;32m     68\u001b[0m     msg \u001b[38;5;241m+\u001b[39m\u001b[38;5;241m=\u001b[39m \u001b[38;5;124mf\u001b[39m\u001b[38;5;124m'\u001b[39m\u001b[38;5;124m on line \u001b[39m\u001b[38;5;132;01m{\u001b[39;00mlno\u001b[38;5;132;01m}\u001b[39;00m\u001b[38;5;124m'\u001b[39m\n\u001b[1;32m---> 69\u001b[0m \u001b[38;5;28;01mraise\u001b[39;00m \u001b[38;5;167;01mValueError\u001b[39;00m(msg \u001b[38;5;241m+\u001b[39m \u001b[38;5;124mf\u001b[39m\u001b[38;5;124m'\u001b[39m\u001b[38;5;124m: \u001b[39m\u001b[38;5;132;01m{\u001b[39;00mnode\u001b[38;5;132;01m!r}\u001b[39;00m\u001b[38;5;124m'\u001b[39m)\n",
      "\u001b[1;31mValueError\u001b[0m: malformed node or string on line 1: <ast.Name object at 0x00000202146DAF80>"
     ]
    }
   ],
   "source": [
    "h1_backend.get_result(handle=handle)"
   ]
  },
  {
   "cell_type": "code",
   "execution_count": null,
   "metadata": {},
   "outputs": [],
   "source": []
  }
 ],
 "metadata": {
  "kernelspec": {
   "display_name": "Python 3",
   "language": "python",
   "name": "python3"
  },
  "language_info": {
   "codemirror_mode": {
    "name": "ipython",
    "version": 3
   },
   "file_extension": ".py",
   "mimetype": "text/x-python",
   "name": "python",
   "nbconvert_exporter": "python",
   "pygments_lexer": "ipython3",
   "version": "3.11.0"
  }
 },
 "nbformat": 4,
 "nbformat_minor": 2
}
