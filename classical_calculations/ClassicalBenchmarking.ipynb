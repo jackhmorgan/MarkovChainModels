{
 "cells": [
  {
   "cell_type": "code",
   "execution_count": 19,
   "id": "11b4558f-5bec-40fa-be93-ca1530845002",
   "metadata": {
    "tags": []
   },
   "outputs": [],
   "source": [
    "# Importing standard Qiskit libraries\n",
    "from qiskit import QuantumCircuit, transpile\n",
    "from qiskit_aer import AerSimulator\n",
    "\n",
    "# qiskit-ibmq-provider has been deprecated.\n",
    "# Please see the Migration Guides in https://ibm.biz/provider_migration_guide for more detail.\n",
    "from qiskit_ibm_runtime import QiskitRuntimeService, Sampler, Estimator, Session, Options\n",
    "\n",
    "# Loading your IBM Quantum account(s)\n",
    "service = QiskitRuntimeService(channel=\"ibm_quantum\")\n",
    "\n",
    "# Invoke a primitive inside a session. For more details see https://qiskit.org/documentation/partners/qiskit_ibm_runtime/tutorials.html\n",
    "# with Session(backend=service.backend(\"ibmq_qasm_simulator\")):\n",
    "#     result = Sampler().run(circuits).result()"
   ]
  },
  {
   "cell_type": "code",
   "execution_count": 20,
   "id": "293caea7-2eb6-4375-ac9d-299ee643495d",
   "metadata": {
    "tags": []
   },
   "outputs": [],
   "source": [
    "import numpy as np\n",
    "from scipy.stats import norm\n",
    "import scipy\n",
    "import json\n",
    "import csv\n",
    "from datetime import datetime as dt"
   ]
  },
  {
   "cell_type": "code",
   "execution_count": 21,
   "id": "221d48c5-8286-4112-8626-cf5df70ccaba",
   "metadata": {
    "tags": []
   },
   "outputs": [],
   "source": [
    "cycle_data = [\n",
    "  {\n",
    "    \"peak\": \"\",\n",
    "    \"trough\": \"1854-12-01\"\n",
    "  },\n",
    "  {\n",
    "    \"peak\": \"1857-06-01\",\n",
    "    \"trough\": \"1858-12-01\"\n",
    "  },\n",
    "  {\n",
    "    \"peak\": \"1860-10-01\",\n",
    "    \"trough\": \"1861-06-01\"\n",
    "  },\n",
    "  {\n",
    "    \"peak\": \"1865-04-01\",\n",
    "    \"trough\": \"1867-12-01\"\n",
    "  },\n",
    "  {\n",
    "    \"peak\": \"1869-06-01\",\n",
    "    \"trough\": \"1870-12-01\"\n",
    "  },\n",
    "  {\n",
    "    \"peak\": \"1873-10-01\",\n",
    "    \"trough\": \"1879-03-01\"\n",
    "  },\n",
    "  {\n",
    "    \"peak\": \"1882-03-01\",\n",
    "    \"trough\": \"1885-05-01\"\n",
    "  },\n",
    "  {\n",
    "    \"peak\": \"1887-03-01\",\n",
    "    \"trough\": \"1888-04-01\"\n",
    "  },\n",
    "  {\n",
    "    \"peak\": \"1890-07-01\",\n",
    "    \"trough\": \"1891-05-01\"\n",
    "  },\n",
    "  {\n",
    "    \"peak\": \"1893-01-01\",\n",
    "    \"trough\": \"1894-06-01\"\n",
    "  },\n",
    "  {\n",
    "    \"peak\": \"1895-12-01\",\n",
    "    \"trough\": \"1897-06-01\"\n",
    "  },\n",
    "  {\n",
    "    \"peak\": \"1899-06-01\",\n",
    "    \"trough\": \"1900-12-01\"\n",
    "  },\n",
    "  {\n",
    "    \"peak\": \"1902-09-01\",\n",
    "    \"trough\": \"1904-08-01\"\n",
    "  },\n",
    "  {\n",
    "    \"peak\": \"1907-05-01\",\n",
    "    \"trough\": \"1908-06-01\"\n",
    "  },\n",
    "  {\n",
    "    \"peak\": \"1910-01-01\",\n",
    "    \"trough\": \"1912-01-01\"\n",
    "  },\n",
    "  {\n",
    "    \"peak\": \"1913-01-01\",\n",
    "    \"trough\": \"1914-12-01\"\n",
    "  },\n",
    "  {\n",
    "    \"peak\": \"1918-08-01\",\n",
    "    \"trough\": \"1919-03-01\"\n",
    "  },\n",
    "  {\n",
    "    \"peak\": \"1920-01-01\",\n",
    "    \"trough\": \"1921-07-01\"\n",
    "  },\n",
    "  {\n",
    "    \"peak\": \"1923-05-01\",\n",
    "    \"trough\": \"1924-07-01\"\n",
    "  },\n",
    "  {\n",
    "    \"peak\": \"1926-10-01\",\n",
    "    \"trough\": \"1927-11-01\"\n",
    "  },\n",
    "  {\n",
    "    \"peak\": \"1929-08-01\",\n",
    "    \"trough\": \"1933-03-01\"\n",
    "  },\n",
    "  {\n",
    "    \"peak\": \"1937-05-01\",\n",
    "    \"trough\": \"1938-06-01\"\n",
    "  },\n",
    "  {\n",
    "    \"peak\": \"1945-02-01\",\n",
    "    \"trough\": \"1945-10-01\"\n",
    "  },\n",
    "  {\n",
    "    \"peak\": \"1948-11-01\",\n",
    "    \"trough\": \"1949-10-01\"\n",
    "  },\n",
    "  {\n",
    "    \"peak\": \"1953-07-01\",\n",
    "    \"trough\": \"1954-05-01\"\n",
    "  },\n",
    "  {\n",
    "    \"peak\": \"1957-08-01\",\n",
    "    \"trough\": \"1958-04-01\"\n",
    "  },\n",
    "  {\n",
    "    \"peak\": \"1960-04-01\",\n",
    "    \"trough\": \"1961-02-01\"\n",
    "  },\n",
    "  {\n",
    "    \"peak\": \"1969-12-01\",\n",
    "    \"trough\": \"1970-11-01\"\n",
    "  },\n",
    "  {\n",
    "    \"peak\": \"1973-11-01\",\n",
    "    \"trough\": \"1975-03-01\"\n",
    "  },\n",
    "  {\n",
    "    \"peak\": \"1980-01-01\",\n",
    "    \"trough\": \"1980-07-01\"\n",
    "  },\n",
    "  {\n",
    "    \"peak\": \"1981-07-01\",\n",
    "    \"trough\": \"1982-11-01\"\n",
    "  },\n",
    "  {\n",
    "    \"peak\": \"1990-07-01\",\n",
    "    \"trough\": \"1991-03-01\"\n",
    "  },\n",
    "  {\n",
    "    \"peak\": \"2001-03-01\",\n",
    "    \"trough\": \"2001-11-01\"\n",
    "  },\n",
    "  {\n",
    "    \"peak\": \"2007-12-01\",\n",
    "    \"trough\": \"2009-06-01\"\n",
    "  },\n",
    "  {\n",
    "    \"peak\": \"2020-02-01\",\n",
    "    \"trough\": \"2020-04-01\"\n",
    "  }\n",
    "]"
   ]
  },
  {
   "cell_type": "code",
   "execution_count": 22,
   "id": "13072350-2ce2-4b3b-9bed-896a3fcdd093",
   "metadata": {
    "tags": []
   },
   "outputs": [
    {
     "name": "stdout",
     "output_type": "stream",
     "text": [
      "{'DATE': '1983-01-03', 'AAA10Y': '1.45'}\n"
     ]
    }
   ],
   "source": [
    "'''Takes bond yield data, and only hangs onto the first date recorded in the month'''\n",
    "\n",
    "with open('AAA10Y.csv', 'r') as AAA:\n",
    "    #months = {key : [] for key in range(1,13)}\n",
    "    AAA_data = []\n",
    "    for line in csv.DictReader(AAA):\n",
    "        if line['AAA10Y'] == \".\":\n",
    "            continue\n",
    "        #date = list(line.values())[0].split('-')\n",
    "        \n",
    "        #if int(date[0]) in months[int(date[1])]:\n",
    "        #        continue\n",
    "                \n",
    "        #months[int(date[1])].append(int(date[0]))\n",
    "        AAA_data.append(line)\n",
    "       \n",
    "        \n",
    "print(AAA_data[0])\n",
    "#print(months)"
   ]
  },
  {
   "cell_type": "code",
   "execution_count": 23,
   "id": "c8554a9b-6a8b-4753-85d5-6f3044d39883",
   "metadata": {
    "tags": []
   },
   "outputs": [],
   "source": [
    "with open('BAA10Y.csv', 'r') as BAA:\n",
    "    #months = {key : [] for key in range(1,13)}\n",
    "    BAA_data = []\n",
    "    for line in csv.DictReader(BAA):\n",
    "        if line['BAA10Y'] == \".\":\n",
    "            continue\n",
    "        #date = list(line.values())[0].split('-')  \n",
    "        \n",
    "        #if int(date[0]) in months[int(date[1])]:\n",
    "        #        continue\n",
    "                \n",
    "        #months[int(date[1])].append(int(date[0]))\n",
    "        \n",
    "        BAA_data.append(line)"
   ]
  },
  {
   "cell_type": "code",
   "execution_count": 24,
   "id": "38cb8989-f87a-4d13-aa68-1930b0b74ffa",
   "metadata": {
    "tags": []
   },
   "outputs": [
    {
     "name": "stdout",
     "output_type": "stream",
     "text": [
      "448\n",
      "8\n",
      "8\n",
      "18\n",
      "2\n",
      "0.009708737864077669 0.1111111111111111\n"
     ]
    }
   ],
   "source": [
    "#start = dt.fromisoformat('1950-01-01')\n",
    "#start = dt.strptime(cycle_data[0][\"trough\"], \"%Y-%m-%d\")\n",
    "start = dt.strptime(BAA_data[0]['DATE'], \"%Y-%m-%d\")\n",
    "end = dt.strptime(BAA_data[-1]['DATE'], \"%Y-%m-%d\")\n",
    "total_months = round((end - start).days/30.437)\n",
    "bad_months = 0\n",
    "print(total_months)\n",
    "GB = 0\n",
    "BG = 0\n",
    "\n",
    "for recession in cycle_data:\n",
    "    if recession[\"peak\"] == '':\n",
    "        #trough = dt.strptime(recession[\"trough\"], \"%Y-%m-%d\")\n",
    "        continue\n",
    "        \n",
    "    peak = dt.strptime(recession[\"peak\"], \"%Y-%m-%d\")\n",
    "    \n",
    "    if peak < start:\n",
    "        continue\n",
    "    \n",
    "    GB += 1\n",
    "    trough = dt.strptime(recession[\"trough\"], \"%Y-%m-%d\")\n",
    "    print(round((trough-peak).days/30.437))\n",
    "    BG += 1\n",
    "    bad_months += round((trough-peak).days/30.437)\n",
    "\n",
    "good_months = total_months - bad_months\n",
    "\n",
    "pgb = GB/good_months\n",
    "pbg = BG/bad_months\n",
    "\n",
    "print(pgb, pbg)"
   ]
  },
  {
   "cell_type": "code",
   "execution_count": 25,
   "id": "8aafbf20-00ef-454d-bc03-1fdcbb03c29d",
   "metadata": {
    "tags": []
   },
   "outputs": [
    {
     "name": "stdout",
     "output_type": "stream",
     "text": [
      "1986-01-02 00:00:00\n",
      "2023-05-03 00:00:00\n"
     ]
    }
   ],
   "source": [
    "print(start)\n",
    "print(end)"
   ]
  },
  {
   "cell_type": "code",
   "execution_count": 26,
   "id": "7625c7e3-1150-4aef-b3db-99278e53027d",
   "metadata": {
    "tags": []
   },
   "outputs": [
    {
     "name": "stdout",
     "output_type": "stream",
     "text": [
      "7818 747\n"
     ]
    }
   ],
   "source": [
    "#start = dt.fromisoformat('1950-01-01')\n",
    "start = dt.strptime(BAA_data[0]['DATE'], \"%Y-%m-%d\")\n",
    "\n",
    "AAA_delta_data = {0 : [], 1: []}\n",
    "\n",
    "\n",
    "for i, measurement in enumerate(AAA_data):\n",
    "    \n",
    "    if measurement['AAA10Y'] == \".\":\n",
    "        continue\n",
    "    if dt.strptime(measurement['DATE'], \"%Y-%m-%d\") < start:\n",
    "        continue\n",
    "        \n",
    "    rate = 1 + float(measurement['AAA10Y'])\n",
    "    #rate = float(measurement['AAA10Y'])\n",
    "    #rate /= 100\n",
    "    #rate += 1\n",
    "    \n",
    "    \n",
    "    date = dt.strptime(measurement['DATE'], \"%Y-%m-%d\")\n",
    "    \n",
    "    for recession in cycle_data:\n",
    "        if recession[\"peak\"] == '':\n",
    "            continue\n",
    "        \n",
    "        peak = dt.strptime(recession[\"peak\"], \"%Y-%m-%d\")\n",
    "        \n",
    "        if peak < start:\n",
    "            continue\n",
    "            \n",
    "        if date < peak:\n",
    "            AAA_delta_data[0].append(rate)\n",
    "            break\n",
    "            \n",
    "        trough = dt.strptime(recession[\"trough\"], \"%Y-%m-%d\")\n",
    "            \n",
    "        if date < trough:\n",
    "            AAA_delta_data[1].append(rate)\n",
    "            break\n",
    "\n",
    "print(len(AAA_delta_data[0]),len(AAA_delta_data[1]))"
   ]
  },
  {
   "cell_type": "code",
   "execution_count": 27,
   "id": "7e0f2d4e-a980-4eed-a488-cc22d395bc45",
   "metadata": {
    "tags": []
   },
   "outputs": [
    {
     "name": "stdout",
     "output_type": "stream",
     "text": [
      "7818 747\n"
     ]
    }
   ],
   "source": [
    "start = dt.strptime(BAA_data[0]['DATE'], \"%Y-%m-%d\")\n",
    "\n",
    "BAA_delta_data = {0 : [], 1: []}\n",
    "\n",
    "\n",
    "for i, measurement in enumerate(BAA_data):\n",
    "    \n",
    "    if measurement['BAA10Y'] == \".\":\n",
    "        continue\n",
    "    \n",
    "    rate = 1 + float(measurement['BAA10Y'])\n",
    "    #rate = float(measurement['BAA10Y'])\n",
    "    #rate /= 100\n",
    "    #rate += 1\n",
    "    \n",
    "    date = dt.strptime(measurement['DATE'], \"%Y-%m-%d\")\n",
    "    \n",
    "    for recession in cycle_data:\n",
    "        if recession[\"peak\"] == '':\n",
    "            continue\n",
    "        \n",
    "        peak = dt.strptime(recession[\"peak\"], \"%Y-%m-%d\")\n",
    "        \n",
    "        if peak < start:\n",
    "            continue\n",
    "            \n",
    "        if date < peak:\n",
    "            BAA_delta_data[0].append(rate)\n",
    "            break\n",
    "            \n",
    "        trough = dt.strptime(recession[\"trough\"], \"%Y-%m-%d\")\n",
    "            \n",
    "        if date < trough:\n",
    "            BAA_delta_data[1].append(rate)\n",
    "            break\n",
    "\n",
    "print(len(BAA_delta_data[0]),len(BAA_delta_data[1]))"
   ]
  },
  {
   "cell_type": "code",
   "execution_count": 28,
   "id": "2ca14af4-58e8-4177-ab09-654d8f3608d0",
   "metadata": {
    "tags": []
   },
   "outputs": [
    {
     "name": "stdout",
     "output_type": "stream",
     "text": [
      "[[1.         0.84844444]\n",
      " [0.84844444 1.        ]]\n"
     ]
    }
   ],
   "source": [
    "me_a_good = np.mean(AAA_delta_data[0])\n",
    "sd_a_good = np.std(AAA_delta_data[0])\n",
    "md_a_good = np.median(AAA_delta_data[0])\n",
    "\n",
    "me_b_good = np.mean(BAA_delta_data[0])\n",
    "sd_b_good = np.std(BAA_delta_data[0])\n",
    "md_b_good = np.median(BAA_delta_data[0])\n",
    "\n",
    "corr_array_good = np.corrcoef(AAA_delta_data[0],BAA_delta_data[0])\n",
    "\n",
    "me_a_bad = np.mean(AAA_delta_data[1])\n",
    "sd_a_bad = np.std(AAA_delta_data[1])\n",
    "md_a_bad = np.median(AAA_delta_data[1])\n",
    "\n",
    "me_b_bad = np.mean(BAA_delta_data[1])\n",
    "sd_b_bad = np.std(BAA_delta_data[1])\n",
    "md_b_bad = np.median(BAA_delta_data[1])\n",
    "\n",
    "corr_array_bad = np.corrcoef(AAA_delta_data[1],BAA_delta_data[1])\n",
    "\n",
    "print(corr_array_bad)"
   ]
  },
  {
   "cell_type": "code",
   "execution_count": 29,
   "id": "39067ad1-4b6f-47b4-9cbd-fa6fac5dbec5",
   "metadata": {},
   "outputs": [
    {
     "name": "stdout",
     "output_type": "stream",
     "text": [
      "1.2425163496599148\n"
     ]
    }
   ],
   "source": [
    "print(sd_b_bad)"
   ]
  },
  {
   "cell_type": "code",
   "execution_count": 30,
   "id": "f3fbc75e-ec48-4360-967b-c33aa8119103",
   "metadata": {
    "tags": []
   },
   "outputs": [
    {
     "name": "stdout",
     "output_type": "stream",
     "text": [
      "[[0.18018464 0.21486784]\n",
      " [0.21486784 0.30936353]]\n",
      "[[0.38344241 0.65279315]\n",
      " [0.65279315 1.54384688]]\n",
      "[[2.31114607]\n",
      " [3.23254925]]\n",
      "[[2.78427041]\n",
      " [4.32749665]]\n"
     ]
    }
   ],
   "source": [
    "Sigma_good = np.corrcoef(AAA_delta_data[0],BAA_delta_data[0])\n",
    "Sigma_good[:,0] *= sd_a_good\n",
    "Sigma_good[0,:] *= sd_a_good\n",
    "Sigma_good[:,1] *= sd_b_good\n",
    "Sigma_good[1,:] *= sd_b_good\n",
    "\n",
    "Sigma_bad = np.corrcoef(AAA_delta_data[1],BAA_delta_data[1])\n",
    "Sigma_bad[:,0] *= sd_a_bad\n",
    "Sigma_bad[0,:] *= sd_a_bad\n",
    "Sigma_bad[:,1] *= sd_b_bad\n",
    "Sigma_bad[1,:] *= sd_b_bad\n",
    "\n",
    "mu_good = np.array([[me_a_good],[me_b_good]])\n",
    "mu_bad = np.array([[me_a_bad],[me_b_bad]])\n",
    "\n",
    "\n",
    "print(Sigma_good)\n",
    "print(Sigma_bad)\n",
    "print(mu_good)\n",
    "print(mu_bad)"
   ]
  },
  {
   "cell_type": "code",
   "execution_count": 31,
   "id": "bc809e5d-ae99-4515-90c2-838c98df59a7",
   "metadata": {
    "tags": []
   },
   "outputs": [
    {
     "name": "stdout",
     "output_type": "stream",
     "text": [
      "[[13.77599927]]\n",
      "[[7.83270312]]\n",
      "[[4.26672542]]\n",
      "[[3.07806619]]\n",
      "[[2.08751683]]\n"
     ]
    }
   ],
   "source": [
    "gamma = [1,2,5,10,60]\n",
    "weights_good = []\n",
    "\n",
    "Sigma_good_inv = np.linalg.inv(Sigma_good)\n",
    "One = np.array([[1],[1]])\n",
    "One_T = np.transpose(One)\n",
    "\n",
    "Sigma_bad_inv = np.linalg.inv(Sigma_bad)\n",
    "One = np.array([[1],[1]])\n",
    "One_T = np.transpose(One)\n",
    "\n",
    "\n",
    "for g in gamma:\n",
    "    v = 2*g \n",
    "\n",
    "    v -= One_T@Sigma_good_inv@mu_good\n",
    "\n",
    "    v /= One_T@Sigma_good_inv@One\n",
    "\n",
    "    w = Sigma_good_inv@(mu_good+(v*One))\n",
    "    w /= np.sum(w)\n",
    "    #print(w)\n",
    "    growth = np.transpose(w)@mu_bad\n",
    "    #print('gamma = ',g)\n",
    "    #print(np.log2(growth[0][0]))\n",
    "    #print(growth[0][0])\n",
    "    print(growth)\n",
    "    \n",
    "    var = np.transpose(w)@Sigma_good@w\n",
    "    #print(np.sqrt(var))"
   ]
  },
  {
   "cell_type": "code",
   "execution_count": 32,
   "id": "c37e90c4-5b88-467d-b88f-e9649be529c3",
   "metadata": {
    "tags": []
   },
   "outputs": [
    {
     "name": "stdout",
     "output_type": "stream",
     "text": [
      "[[4.03101444]]\n",
      "[[3.07334361]]\n",
      "[[2.49874111]]\n",
      "[[2.30720695]]\n",
      "[[2.14759514]]\n"
     ]
    }
   ],
   "source": [
    "gamma = [1,2,5,10,60]\n",
    "weights_bad = []\n",
    "\n",
    "Sigma_bad_inv = np.linalg.inv(Sigma_bad)\n",
    "One = np.array([[1],[1]])\n",
    "One_T = np.transpose(One)\n",
    "\n",
    "for g in gamma:\n",
    "    v = 2*g \n",
    "\n",
    "    v -= One_T@Sigma_bad_inv@mu_bad\n",
    "\n",
    "    v /= One_T@Sigma_bad_inv@One\n",
    "    \n",
    "    w = Sigma_bad_inv@(mu_bad+(v*One))\n",
    "    w /= np.sum(w)\n",
    "    #print(w)\n",
    "    growth = np.transpose(w)@mu_bad\n",
    "    print(growth)\n",
    "    #print(growth[0][0])\n",
    "    var = np.transpose(w)@Sigma_bad@w\n",
    "    #print(np.sqrt(var))"
   ]
  },
  {
   "cell_type": "code",
   "execution_count": 33,
   "id": "a07e67fb-6e0c-4178-b0b2-9c394de585f3",
   "metadata": {
    "tags": []
   },
   "outputs": [],
   "source": [
    "def ClassicalMC(steps, pg, pb):\n",
    "    probs = []\n",
    "    n = steps\n",
    "    for i in range(2**(n+1)):\n",
    "        prob = 1\n",
    "        state = list(map(float,format(i, '0'+str(n+1)+'b')))\n",
    "        \n",
    "        if state[0] == 0:\n",
    "            prob *= (pb)/(pg+pb)\n",
    "        if state[0] == 1:\n",
    "            prob *= 1-(pb)/(pg+pb)\n",
    "        for j in range(n):\n",
    "            if state[j]==0 and state[j+1]==0:\n",
    "                prob *= 1-pg\n",
    "            if state[j]==0 and state[j+1]==1:\n",
    "                prob *= pg\n",
    "            if state[j]==1 and state[j+1]==0:\n",
    "                prob *= pb\n",
    "            if state[j]==1 and state[j+1]==1:\n",
    "                prob *= 1-pb\n",
    "        probs.append(prob)\n",
    "    return {i:probs[i] for i in range(2**(n+1))}"
   ]
  },
  {
   "cell_type": "code",
   "execution_count": 34,
   "id": "f2bf632b-6f8d-41ac-a172-2018c2c3b138",
   "metadata": {
    "tags": []
   },
   "outputs": [],
   "source": [
    "def draw_random_normal_int(low:int, high:int):\n",
    "\n",
    "    # generate a random normal number (float)\n",
    "    normal = np.random.normal(loc=0, scale=1, size=1)\n",
    "\n",
    "    # clip to -3, 3 (where the bell with mean 0 and std 1 is very close to zero\n",
    "    normal = -2 if normal < -2 else normal\n",
    "    normal = 2 if normal > 2 else normal\n",
    "\n",
    "    # scale range of 6 (-3..3) to range of low-high\n",
    "    scaling_factor = (high-low) / 4\n",
    "    normal_scaled = normal * scaling_factor\n",
    "\n",
    "    # center around mean of range of low high\n",
    "    normal_scaled += low + (high-low)/2\n",
    "\n",
    "    # then round and return\n",
    "    return np.round(normal_scaled)"
   ]
  },
  {
   "cell_type": "code",
   "execution_count": 35,
   "id": "f71c4706-ec43-4a75-ba2e-23ed40f929bc",
   "metadata": {
    "tags": []
   },
   "outputs": [],
   "source": [
    "def NormalBinned(z_size):\n",
    "    bins = np.zeros(int(2**z_size))\n",
    "    N = 100000\n",
    "\n",
    "    for i in range(N):\n",
    "        index = int(draw_random_normal_int(0,int(2**z_size)-1))\n",
    "        bins[index] += 1\n",
    "\n",
    "\n",
    "    bins /= N\n",
    "    return bins   "
   ]
  },
  {
   "cell_type": "code",
   "execution_count": 36,
   "id": "0d826694-0c9d-4ea0-9d54-1e6ff6b97bd7",
   "metadata": {},
   "outputs": [],
   "source": [
    "def DefaulProb(regime, variable, group):\n",
    "    if regime == 0:\n",
    "        default_probs = [0.1,0.2]\n",
    "        sensitivities = [0.1,0.05]\n",
    "    if regime == 1:\n",
    "        default_probs = [0.15,0.25]\n",
    "        sensitivities = [0.15,0.1]\n",
    "        \n",
    "    else:\n",
    "        default_probs = [0.15,0.25]\n",
    "        sensitivities = [0.1,0.05]\n",
    "    \n",
    "    return norm.cdf((default_probs[group] - (np.sqrt(sensitivities[group])*variable))/(np.sqrt(1-sensitivities[group])))"
   ]
  },
  {
   "cell_type": "code",
   "execution_count": 37,
   "id": "a5f57ea3-0050-4edf-be4c-fbf6e89550b4",
   "metadata": {
    "tags": []
   },
   "outputs": [],
   "source": [
    "def ClassicalCreditRisk():\n",
    "    \n",
    "    z_size = 3\n",
    "    groups = [1,2]\n",
    "    \n",
    "    prob_0 = 0\n",
    "    prob_1 = 0\n",
    "    prob_2 = 0\n",
    "    prob_3 = 0\n",
    "    \n",
    "    Norm = NormalBinned(z_size)\n",
    "    \n",
    "    \n",
    "    for z in range(8):\n",
    "        prob_outcome = Norm[z]\n",
    "\n",
    "        prob_default_group = []\n",
    "\n",
    "        for group in range(len(groups)):\n",
    "            prob_default_group.append(DefaulProb(None, z, group))\n",
    "\n",
    "        prob_0 += prob_outcome*(1-prob_default_group[0])*(1-prob_default_group[1])\n",
    "        prob_1 += prob_outcome*prob_default_group[0]*(1-prob_default_group[1])\n",
    "        prob_2 += prob_outcome*(1-prob_default_group[0])*prob_default_group[1]\n",
    "        prob_3 += prob_outcome*prob_default_group[0]*prob_default_group[1]\n",
    "    \n",
    "    return [prob_0, prob_0+prob_1, prob_0+prob_1+prob_2, prob_0+prob_1+prob_2+prob_3]\n",
    "                           \n",
    "#ClassicalLossDistribution() "
   ]
  },
  {
   "cell_type": "code",
   "execution_count": 38,
   "id": "b092c284-eac5-48d8-b521-52bc46cd319c",
   "metadata": {
    "tags": []
   },
   "outputs": [
    {
     "name": "stderr",
     "output_type": "stream",
     "text": [
      "C:\\Users\\19899\\AppData\\Local\\Temp\\ipykernel_15260\\376523967.py:6: DeprecationWarning: Conversion of an array with ndim > 0 to a scalar is deprecated, and will error in future. Ensure you extract a single element from your array before performing this operation. (Deprecated NumPy 1.25.)\n",
      "  index = int(draw_random_normal_int(0,int(2**z_size)-1))\n"
     ]
    },
    {
     "data": {
      "text/plain": [
       "[np.float64(0.5792635379418261),\n",
       " np.float64(0.694081941149454),\n",
       " np.float64(0.9233873936538466),\n",
       " np.float64(1.0000000000000002)]"
      ]
     },
     "execution_count": 38,
     "metadata": {},
     "output_type": "execute_result"
    }
   ],
   "source": [
    "ClassicalCreditRisk()"
   ]
  },
  {
   "cell_type": "code",
   "execution_count": 39,
   "id": "635ef1f8-b47e-47a8-90d4-52e8ae6f26da",
   "metadata": {},
   "outputs": [],
   "source": [
    "def ClassicalMCCreditRisk(pg, pb):\n",
    "    \n",
    "    z_size = 3\n",
    "    groups = [1,2]\n",
    "    steps = 6\n",
    "    \n",
    "    prob_0 = 0\n",
    "    prob_1 = 0\n",
    "    prob_2 = 0\n",
    "    prob_3 = 0\n",
    "    \n",
    "    MC = ClassicalMC(steps, pg, pb)\n",
    "    Norm = NormalBinned(z_size)\n",
    "    \n",
    "    for chain in MC.items():\n",
    "        prob_mc = chain[1]\n",
    "        state_mc = list(map(float,format(chain[0], '0'+str(steps+1)+'b')))\n",
    "        for z in range(8):\n",
    "            prob_norm = Norm[z]\n",
    "            \n",
    "            prob_outcome = prob_mc*prob_norm\n",
    "            \n",
    "            prob_default_group = []\n",
    "            \n",
    "            for group in range(len(groups)):\n",
    "                prob_default_group.append(DefaulProb(chain[0], z, group))\n",
    "            \n",
    "            prob_0 += prob_outcome*(1-prob_default_group[0])*(1-prob_default_group[1])\n",
    "            prob_1 += prob_outcome*prob_default_group[0]*(1-prob_default_group[1])\n",
    "            prob_2 += prob_outcome*(1-prob_default_group[0])*prob_default_group[1]\n",
    "            prob_3 += prob_outcome*prob_default_group[0]*prob_default_group[1]\n",
    "    \n",
    "    return [prob_0, prob_0+prob_1, prob_0+prob_1+prob_2, prob_0+prob_1+prob_2+prob_3]\n",
    "                           \n",
    "#ClassicalMCLossDistribution(0.3,0.4) "
   ]
  },
  {
   "cell_type": "code",
   "execution_count": 40,
   "id": "6a6605a9-04f1-4daf-832f-8a174e70c044",
   "metadata": {
    "tags": []
   },
   "outputs": [
    {
     "name": "stderr",
     "output_type": "stream",
     "text": [
      "C:\\Users\\19899\\AppData\\Local\\Temp\\ipykernel_15260\\376523967.py:6: DeprecationWarning: Conversion of an array with ndim > 0 to a scalar is deprecated, and will error in future. Ensure you extract a single element from your array before performing this operation. (Deprecated NumPy 1.25.)\n",
      "  index = int(draw_random_normal_int(0,int(2**z_size)-1))\n"
     ]
    },
    {
     "data": {
      "text/plain": [
       "[np.float64(0.5808289654222186),\n",
       " np.float64(0.6952334605366637),\n",
       " np.float64(0.9239770582333439),\n",
       " np.float64(0.9999999999999978)]"
      ]
     },
     "execution_count": 40,
     "metadata": {},
     "output_type": "execute_result"
    }
   ],
   "source": [
    "ClassicalMCCreditRisk(0.009708737864077669, 0.1111111111111111)"
   ]
  },
  {
   "cell_type": "code",
   "execution_count": 41,
   "id": "9ac85131-a1ca-4235-91b4-518e397fc65a",
   "metadata": {
    "tags": []
   },
   "outputs": [
    {
     "data": {
      "text/plain": [
       "0.46051361732403684"
      ]
     },
     "execution_count": 41,
     "metadata": {},
     "output_type": "execute_result"
    }
   ],
   "source": [
    "def ClassicalDerivPriceToMeasurement(price, strike):\n",
    "    \n",
    "    integer_precision = 2\n",
    "    fractional_precision = 6\n",
    "    c = 0.05\n",
    "    \n",
    "    f_max = ((2**(integer_precision+1))-(2.0**(fractional_precision)))\n",
    "    po_max = f_max - strike\n",
    "    \n",
    "    price /= po_max\n",
    "    price /=  2 / np.pi / c\n",
    "\n",
    "    measurement = price + 1/2 - np.pi / 4 * c\n",
    "    \n",
    "    return measurement\n",
    "\n",
    "ClassicalDerivPriceToMeasurement(0.15683, 0.90)"
   ]
  },
  {
   "cell_type": "code",
   "execution_count": 42,
   "id": "fc1e64aa-f3a9-4b21-ab68-5851abf13150",
   "metadata": {
    "tags": []
   },
   "outputs": [
    {
     "data": {
      "text/plain": [
       "[np.float64(0.46053335797941125),\n",
       " np.float64(0.4605954851809811),\n",
       " np.float64(0.460647415527079),\n",
       " np.float64(0.4606890217931239),\n",
       " np.float64(0.4607126931700151)]"
      ]
     },
     "execution_count": 42,
     "metadata": {},
     "output_type": "execute_result"
    }
   ],
   "source": [
    "def ClassicalDerivPrice():\n",
    "    steps = 6\n",
    "    T = 1/12\n",
    "    \n",
    "    dt = T/steps\n",
    "    \n",
    "    measurements = []\n",
    "    \n",
    "    strikes = [0.9,0.95,1.0,1.05,1.10]\n",
    "    \n",
    "    for strike in strikes:\n",
    "        values = []\n",
    "        \n",
    "        for i in range(2**(steps)):      \n",
    "            S = 1.0 \n",
    "            state_bt = list(map(float,format(i, '0'+str(steps+1)+'b')))\n",
    "\n",
    "            for j, k in enumerate(state_bt):\n",
    "\n",
    "                sigma = 0.2+min(max(1.2*i*dt,0),0.1)\n",
    "                mu = 0.1 - ((sigma**2)/2)\n",
    "\n",
    "                if k == 0.0:\n",
    "                    S *= np.e**((mu*dt)+(sigma*np.sqrt(dt)))\n",
    "\n",
    "                if k == 1.0:\n",
    "                    S *= np.e**((mu*dt)-(sigma*np.sqrt(dt)))\n",
    "\n",
    "            if S > strike:\n",
    "                values.append(S-strike)\n",
    "\n",
    "\n",
    "        expectation = 0\n",
    "\n",
    "        for index in range(len(values)):\n",
    "            v = values[index]\n",
    "            expectation += v/(2**steps)\n",
    "            \n",
    "        measurement_prob = ClassicalDerivPriceToMeasurement(expectation, strike)    \n",
    "        measurements.append(measurement_prob)\n",
    "        \n",
    "    return measurements\n",
    "    \n",
    "ClassicalDerivPrice()   "
   ]
  },
  {
   "cell_type": "code",
   "execution_count": 43,
   "id": "a4cbc945-c6ca-4462-b57d-24d74601be00",
   "metadata": {
    "tags": []
   },
   "outputs": [
    {
     "data": {
      "text/plain": [
       "[np.float64(0.46050882401974397),\n",
       " np.float64(0.46057259021969277),\n",
       " np.float64(0.4606329122003678),\n",
       " np.float64(0.4606758568034812),\n",
       " np.float64(0.4607102510253648)]"
      ]
     },
     "execution_count": 43,
     "metadata": {},
     "output_type": "execute_result"
    }
   ],
   "source": [
    "def ClassicalMCDerivPrice(pg, pb):\n",
    "    steps = 3\n",
    "    T = 1/12\n",
    "    MC = ClassicalMC(steps, pg, pb)\n",
    "    \n",
    "    dt = T/steps\n",
    "            \n",
    "    sigma_off = [0.2,0.3]\n",
    "    r = [0.2,0.1]\n",
    "    \n",
    "    measurements = []\n",
    "    \n",
    "    strikes = [0.9,0.95,1.0,1.05,1.10]\n",
    "    \n",
    "    for strike in strikes:\n",
    "        values = []\n",
    "        probs = []\n",
    "        \n",
    "        for chain in MC.items():\n",
    "            prob = chain[1]/(2**steps)\n",
    "            state_mc = list(map(float,format(chain[0], '0'+str(steps+1)+'b')))\n",
    "            for i in range(2**(steps)):      \n",
    "                S = 1.0 \n",
    "                state_bt = list(map(float,format(i, '0'+str(steps+1)+'b')))\n",
    "\n",
    "                for j, k in enumerate(state_bt):\n",
    "\n",
    "                    sigma = sigma_off[int(state_mc[j])]+min(max(1.2*i*dt,0),0.1)\n",
    "                    mu = r[int(state_mc[j])] - ((sigma**2)/2)\n",
    "\n",
    "                    if k == 0.0:\n",
    "                        S *= np.e**((mu*dt)+(sigma*np.sqrt(dt)))\n",
    "\n",
    "                    if k == 1.0:\n",
    "                        S *= np.e**((mu*dt)-(sigma*np.sqrt(dt)))\n",
    "\n",
    "                if S > strike:\n",
    "                    values.append(S-strike)\n",
    "                    probs.append(prob)\n",
    "\n",
    "\n",
    "        expectation = 0\n",
    "\n",
    "        for index in range(len(values)):\n",
    "            p = probs[index]\n",
    "            v = values[index]\n",
    "            expectation += p*v\n",
    "            \n",
    "        measurement_prob = ClassicalDerivPriceToMeasurement(expectation, strike)\n",
    "        \n",
    "        measurements.append(measurement_prob)\n",
    "        \n",
    "    return measurements\n",
    "    \n",
    "ClassicalMCDerivPrice(0.009708737864077669, 0.1111111111111111)   "
   ]
  },
  {
   "cell_type": "code",
   "execution_count": 44,
   "id": "0e15acaa-0c6e-48a6-89fa-c3b3042fa304",
   "metadata": {},
   "outputs": [],
   "source": [
    "def CorporateBond(value, steps, growths):\n",
    "    \n",
    "    pgb = 0.009708737864077669 \n",
    "    pbg = 0.1111111111111111\n",
    "    \n",
    "    MC = ClassicalMC(steps,pgb,pbg)\n",
    "    probability = 0\n",
    "    for path in MC.keys():\n",
    "        state = list(map(float,format(path, '0'+str(steps+1)+'b')))\n",
    "        #print(state)\n",
    "        tot_growth = 0\n",
    "        for step in range(1,steps+1):\n",
    "            regime = state[step]\n",
    "            tot_growth += growths[int(regime)]\n",
    "        #print(tot_growth)\n",
    "        #print(MC[path])\n",
    "        if tot_growth <= value:\n",
    "            probability += MC[path]\n",
    "    return probability"
   ]
  },
  {
   "cell_type": "code",
   "execution_count": 45,
   "id": "1ae225f5-8102-495b-ada3-b15ef4c75659",
   "metadata": {
    "tags": []
   },
   "outputs": [
    {
     "data": {
      "text/plain": [
       "0.06349206349206343"
      ]
     },
     "execution_count": 45,
     "metadata": {},
     "output_type": "execute_result"
    }
   ],
   "source": [
    "CorporateBond(0, 3, [0.771, 0])"
   ]
  },
  {
   "cell_type": "code",
   "execution_count": 46,
   "id": "c24d4bc8-67e3-44f6-b1d9-5255149d306c",
   "metadata": {
    "tags": []
   },
   "outputs": [],
   "source": [
    "MontC = ClassicalMC(3,0.001,0.3)"
   ]
  },
  {
   "cell_type": "code",
   "execution_count": 47,
   "id": "02650c46-de5a-4f4a-8def-6729f3acb508",
   "metadata": {},
   "outputs": [],
   "source": [
    "def SingleMSE(classical, quantum):\n",
    "    \n",
    "    MSE = 0\n",
    "    \n",
    "    for i, quant in enumerate(quantum.values()):\n",
    "        error = quant - classical[i]\n",
    "        MSE += error**2\n",
    "    \n",
    "    return MSE/len(quantum)"
   ]
  },
  {
   "cell_type": "code",
   "execution_count": 50,
   "id": "7e9b50f0-1550-4070-aa79-457dcb2f9e99",
   "metadata": {
    "tags": []
   },
   "outputs": [],
   "source": [
    "def QuantDictID(keys, jobid):\n",
    "    '''\n",
    "    job = service.runtime.job(jobid)\n",
    "    result = job.result().quasi_dists\n",
    "    resiliences = [0,3]\n",
    "    '''\n",
    "    resiliences = [0]\n",
    "    result = [{1: 0.57}, {1: 0.69}, {1:  0.93}, {1: 1.0 },\n",
    "             {1: 0.66}, {1: 0.78 }, {1: 0.96}, {1: 1.0},\n",
    "              {1:  0.64}, {1:  0.75}, {1:  0.95}, {1:  1.0}\n",
    "             ]\n",
    "    \n",
    "    groups = round(len(result)/(len(resiliences)*(len(keys))*3))\n",
    "    \n",
    "    qdict = {res: {param : {group : [] for group in range(groups)} for param in range(3)} for res in resiliences}\n",
    "    \n",
    "    for i, res in enumerate(resiliences):\n",
    "        \n",
    "        for params in range(3):\n",
    "        \n",
    "            for group in range(groups):\n",
    "\n",
    "                for j, key in enumerate(keys):\n",
    "                    index = (i*groups*3*len(keys)*groups)+(params*len(keys)*groups)+(j*groups)+group\n",
    "                    qdict[res][params][group].append(result[index][1])\n",
    "        \n",
    "    return [groups, qdict]\n",
    "    \n",
    "#QuantDictID([0,1,2,3],\"cgkanstg6pokv26293cg\")"
   ]
  },
  {
   "cell_type": "code",
   "execution_count": 51,
   "id": "c99cb9ca-bd9d-4f0d-bde9-e5db9a41658e",
   "metadata": {},
   "outputs": [],
   "source": [
    "def ClassDict(keys):\n",
    "    cdict = {}\n",
    "    \n",
    "    if keys == [0.9,0.95,1.0,1.05,1.10]:\n",
    "        cdict[0] = ClassicalDerivPrice()\n",
    "        cdict[1] = ClassicalMCDerivPrice(0.009708737864077669, 0.1111111111111111)\n",
    "        cdict[2] = ClassicalMCDerivPrice(0.3, 0.4)\n",
    "        \n",
    "    if keys == [0,1,2,3]:\n",
    "        cdict[0] = ClassicalCreditRisk()\n",
    "        cdict[1] = ClassicalMCCreditRisk(0.009708737864077669, 0.1111111111111111)\n",
    "        cdict[2] = ClassicalMCCreditRisk(0.3, 0.4)\n",
    "        \n",
    "    return cdict\n",
    "        \n",
    "#print(len(ClassDict([3,6,12,24])))"
   ]
  },
  {
   "cell_type": "code",
   "execution_count": 52,
   "id": "9c3b1a67-3690-4735-ab42-73c4290e9d30",
   "metadata": {
    "tags": []
   },
   "outputs": [],
   "source": [
    "def MultiMSEID(keys, jobid):\n",
    "        \n",
    "    classical_dict = ClassDict(keys)\n",
    "    quantum_dict = QuantDictID(keys, jobid)\n",
    "    groups = quantum_dict[0]\n",
    "    quantum_dict = quantum_dict[1]\n",
    "    \n",
    "    resiliences = [0,3]\n",
    "    MSE_res = {res : {params : \"\" for params in range(3)} for res in resiliences}\n",
    "    \n",
    "    for res in quantum_dict.keys():\n",
    "        for params in range(3):\n",
    "            classical = classical_dict[params]\n",
    "            quantum = quantum_dict[res][params]\n",
    "            error = 0\n",
    "            for group in quantum.keys():\n",
    "                error += SingleMSE(classical, quantum[group])\n",
    "            \n",
    "        \n",
    "            MSE_res[res][params] = error/groups\n",
    "    return MSE_res\n",
    "\n",
    "#MultiMSEID([0,1,2,3],\"cgkalkpnnc3hiktnb390\")"
   ]
  },
  {
   "cell_type": "code",
   "execution_count": 53,
   "id": "6ca5097b-4b5b-43ab-bfbf-869d1b3e52ac",
   "metadata": {
    "tags": []
   },
   "outputs": [],
   "source": [
    "def MCQuantDictFile(keys, filename):\n",
    "    '''\n",
    "    job = service.runtime.job(jobid)\n",
    "    result = job.result().quasi_dists\n",
    "    resiliences = [0,3]\n",
    "    '''\n",
    "    \n",
    "    with open(filename, \"r\") as file:\n",
    "        result = json.load(file)['0']\n",
    "    \n",
    "    #result = [{1: 0.57}, {1: 0.69}, {1:  0.93}, {1: 1.0 },\n",
    "    #         {1: 0.66}, {1: 0.78 }, {1: 0.96}, {1: 1.0},\n",
    "    #          {1:  0.64}, {1:  0.75}, {1:  0.95}, {1:  1.0}\n",
    "    #         ]\n",
    "    \n",
    "    iterations = range(len(result))\n",
    "    params_options = [0,1,2]\n",
    "    \n",
    "    qdict = {params: {key : {iteration : \"\" for iteration in iterations} for key in keys} for params in params_options}\n",
    "    \n",
    "    for iteration in iterations:\n",
    "        index = 0\n",
    "            \n",
    "        for key in keys:\n",
    "\n",
    "            for params in params_options:\n",
    "\n",
    "                quasi_dists = result[iteration][index]\n",
    "                qdict[params][key][iteration] = quasi_dists\n",
    "                index +=1\n",
    "        \n",
    "    return qdict\n",
    "    \n",
    "#test_dict = MCQuantDictFile([3,6,12,25],\"MC_Real.json\")\n",
    "#print(test_dict[0][3][1])"
   ]
  },
  {
   "cell_type": "code",
   "execution_count": 54,
   "id": "5ef873cb-4941-4f2a-9f31-302ebae751fc",
   "metadata": {},
   "outputs": [],
   "source": [
    "def MC_MSE_File(steps_options, filename):\n",
    "        \n",
    "    quantum_dict = MCQuantDictFile(steps_options, filename)\n",
    "    \n",
    "    MSE_dict = {params : {steps : \"\" for steps in steps_options} for params in range(3)}\n",
    "    \n",
    "    pgb_options = [0.3, 0.02418207681365576, 0.009708737864077669]\n",
    "    pbg_options = [0.4, 0.058823529411764705, 0.1111111111111111]\n",
    "    \n",
    "    for params in range(3):\n",
    "        \n",
    "        for steps in steps_options:\n",
    "\n",
    "            classical = ClassicalMC(steps, pgb_options[params], pbg_options[params])\n",
    "            quantum = quantum_dict[params][steps]\n",
    "            error = 0\n",
    "            iterations = len(quantum)\n",
    "            \n",
    "            for iteration in quantum.keys():\n",
    "                error += SingleMSE(classical, quantum[iteration])\n",
    "\n",
    "\n",
    "            MSE_dict[params][steps] = error/iterations\n",
    "            \n",
    "    return MSE_dict"
   ]
  },
  {
   "cell_type": "code",
   "execution_count": null,
   "id": "9b554da6-7ce6-4099-b813-a16620e4e0f8",
   "metadata": {
    "tags": []
   },
   "outputs": [
    {
     "data": {
      "text/plain": [
       "{0: {3: 1.332673738440688e-05,\n",
       "  6: 3.7890488605193183e-06,\n",
       "  12: 1.8827932857387863e-07,\n",
       "  24: 6.175451605584057e-08},\n",
       " 1: {3: 0.004149948475495823,\n",
       "  6: 0.0010012610264926638,\n",
       "  12: 0.00014352849537831603,\n",
       "  24: 1.204210495828633e-05},\n",
       " 2: {3: 0.0002759959408972652,\n",
       "  6: 5.7543554078051494e-05,\n",
       "  12: 9.580034917656184e-06,\n",
       "  24: 1.9919750743293185e-06}}"
      ]
     },
     "execution_count": 50,
     "metadata": {},
     "output_type": "execute_result"
    }
   ],
   "source": [
    "MC_MSE_File([3,6,12,24], \"MC_Fake2.json\")"
   ]
  },
  {
   "cell_type": "code",
   "execution_count": null,
   "id": "3eae6462-d6a6-43c6-b401-44c8cccac79f",
   "metadata": {
    "tags": []
   },
   "outputs": [],
   "source": [
    "def QuantDictFile(keys, filename):\n",
    "    '''\n",
    "    job = service.runtime.job(jobid)\n",
    "    result = job.result().quasi_dists\n",
    "    resiliences = [0,3]\n",
    "    '''\n",
    "    \n",
    "    with open(filename, \"r\") as file:\n",
    "        result = json.load(file)['0']\n",
    "    \n",
    "    #result = [{1: 0.57}, {1: 0.69}, {1:  0.93}, {1: 1.0 },\n",
    "    #         {1: 0.66}, {1: 0.78 }, {1: 0.96}, {1: 1.0},\n",
    "    #          {1:  0.64}, {1:  0.75}, {1:  0.95}, {1:  1.0}\n",
    "    #         ]\n",
    "    \n",
    "    iterations = range(len(result)-64)\n",
    "    params_options = [0,1,2]\n",
    "    \n",
    "    qdict = {params: {iteration : {key: \"\" for key in keys} for iteration in iterations} for params in params_options}\n",
    "    \n",
    "    for iteration in iterations:\n",
    "        index = 0\n",
    "            \n",
    "        for key in keys:\n",
    "\n",
    "            for params in params_options:\n",
    "                \n",
    "                quasi_dists = result[iteration+64][index]\n",
    "                qdict[params][iteration][key] = quasi_dists\n",
    "                index +=1\n",
    "        \n",
    "    return qdict"
   ]
  },
  {
   "cell_type": "code",
   "execution_count": null,
   "id": "04f4ed8a-5f01-43c6-a8c4-d7c4354a4021",
   "metadata": {},
   "outputs": [],
   "source": [
    "def MSE_file(keys, filename):\n",
    "    quantum_dict=QuantDictFile(keys, filename)\n",
    "    iterations = len(quantum_dict[0])\n",
    "    \n",
    "    classical_dict = ClassDict(keys)\n",
    "    MSE_dict = {params : \"\" for params in range(3)}\n",
    "    \n",
    "    for params in range(3):\n",
    "        \n",
    "        classical = classical_dict[params]\n",
    "        \n",
    "        error = 0\n",
    "        \n",
    "        for it in range(iterations):\n",
    "            \n",
    "            quantum = {key : quantum_dict[params][it][key]['1'] for key in keys}\n",
    "            error += SingleMSE(classical, quantum)\n",
    "            \n",
    "        MSE_dict[params] = error/iterations\n",
    "    \n",
    "    return MSE_dict\n",
    "            "
   ]
  },
  {
   "cell_type": "code",
   "execution_count": null,
   "id": "a7832102-f7be-4813-8922-23bce3715762",
   "metadata": {},
   "outputs": [
    {
     "data": {
      "text/plain": [
       "{0: 0.002061988681704327, 1: 0.00017903420423567975, 2: 0.0002003679040123542}"
      ]
     },
     "execution_count": 75,
     "metadata": {},
     "output_type": "execute_result"
    }
   ],
   "source": [
    "MSE_file([0,1,2,3], \"CreditRisk_Fake2.json\")"
   ]
  },
  {
   "cell_type": "code",
   "execution_count": null,
   "id": "945e598c-b5bb-44d4-bc49-ae960318b06b",
   "metadata": {},
   "outputs": [],
   "source": []
  }
 ],
 "metadata": {
  "kernelspec": {
   "display_name": "Python 3",
   "language": "python",
   "name": "python3"
  },
  "language_info": {
   "codemirror_mode": {
    "name": "ipython",
    "version": 3
   },
   "file_extension": ".py",
   "mimetype": "text/x-python",
   "name": "python",
   "nbconvert_exporter": "python",
   "pygments_lexer": "ipython3",
   "version": "3.11.0"
  },
  "widgets": {
   "application/vnd.jupyter.widget-state+json": {
    "state": {
     "1ebcc23d50a34e3a831d448e76492fa6": {
      "model_module": "@jupyter-widgets/controls",
      "model_module_version": "2.0.0",
      "model_name": "GridBoxModel",
      "state": {
       "children": [
        "IPY_MODEL_6fd67ef7c31b40e39c200822affea21b"
       ],
       "layout": "IPY_MODEL_3aa740b37511410ca60459c2530bff7a"
      }
     },
     "1ff5d75daaab40a5867b55943c472250": {
      "model_module": "@jupyter-widgets/base",
      "model_module_version": "2.0.0",
      "model_name": "LayoutModel",
      "state": {
       "width": "95px"
      }
     },
     "20a8811cb75b4b1794aac29c8d44afec": {
      "model_module": "@jupyter-widgets/base",
      "model_module_version": "2.0.0",
      "model_name": "LayoutModel",
      "state": {
       "margin": "0px 0px 0px 37px",
       "width": "600px"
      }
     },
     "2934216d79d0422795b10a92f49cf206": {
      "model_module": "@jupyter-widgets/controls",
      "model_module_version": "2.0.0",
      "model_name": "ButtonStyleModel",
      "state": {
       "font_family": null,
       "font_size": null,
       "font_style": null,
       "font_variant": null,
       "font_weight": null,
       "text_color": null,
       "text_decoration": null
      }
     },
     "2eaadf4c2a074ca8baf1abe100180767": {
      "model_module": "@jupyter-widgets/controls",
      "model_module_version": "2.0.0",
      "model_name": "HTMLModel",
      "state": {
       "layout": "IPY_MODEL_474178b5227a4d039be7bb0ca7cad5e6",
       "style": "IPY_MODEL_2f12eb092c374ae783862a96555835c4",
       "value": "<h5>Message</h5>"
      }
     },
     "2f12eb092c374ae783862a96555835c4": {
      "model_module": "@jupyter-widgets/controls",
      "model_module_version": "2.0.0",
      "model_name": "HTMLStyleModel",
      "state": {
       "description_width": "",
       "font_size": null,
       "text_color": null
      }
     },
     "32b639b49f804a2eb2063c181affd7b9": {
      "model_module": "@jupyter-widgets/controls",
      "model_module_version": "2.0.0",
      "model_name": "HTMLModel",
      "state": {
       "layout": "IPY_MODEL_1ff5d75daaab40a5867b55943c472250",
       "style": "IPY_MODEL_37df1d1ede5d41dc916ba28488d97112",
       "value": "<h5>Status</h5>"
      }
     },
     "37df1d1ede5d41dc916ba28488d97112": {
      "model_module": "@jupyter-widgets/controls",
      "model_module_version": "2.0.0",
      "model_name": "HTMLStyleModel",
      "state": {
       "description_width": "",
       "font_size": null,
       "text_color": null
      }
     },
     "3aa740b37511410ca60459c2530bff7a": {
      "model_module": "@jupyter-widgets/base",
      "model_module_version": "2.0.0",
      "model_name": "LayoutModel",
      "state": {
       "grid_template_areas": "\n                                       \". . . . right \"\n                                        ",
       "grid_template_columns": "20% 20% 20% 20% 20%",
       "width": "100%"
      }
     },
     "3bd73bf36d9f4ab083a5255a952b9a4d": {
      "model_module": "@jupyter-widgets/base",
      "model_module_version": "2.0.0",
      "model_name": "LayoutModel",
      "state": {
       "width": "145px"
      }
     },
     "3c3c3548f1db42709a37b3e6c5a9aa07": {
      "model_module": "@jupyter-widgets/controls",
      "model_module_version": "2.0.0",
      "model_name": "HTMLStyleModel",
      "state": {
       "description_width": "",
       "font_size": null,
       "text_color": null
      }
     },
     "45b4cd8890834d6bb6e036e07c8ca55d": {
      "model_module": "@jupyter-widgets/base",
      "model_module_version": "2.0.0",
      "model_name": "LayoutModel",
      "state": {
       "grid_area": "right",
       "padding": "0px 0px 0px 0px",
       "width": "70px"
      }
     },
     "474178b5227a4d039be7bb0ca7cad5e6": {
      "model_module": "@jupyter-widgets/base",
      "model_module_version": "2.0.0",
      "model_name": "LayoutModel",
      "state": {}
     },
     "536ccdb5f46b4a689de0a907a38251b9": {
      "model_module": "@jupyter-widgets/controls",
      "model_module_version": "2.0.0",
      "model_name": "HTMLModel",
      "state": {
       "layout": "IPY_MODEL_82059432bb8b4b6c9eb76c5e56cb41b6",
       "style": "IPY_MODEL_3c3c3548f1db42709a37b3e6c5a9aa07",
       "value": "<h5>Job ID</h5>"
      }
     },
     "6fd67ef7c31b40e39c200822affea21b": {
      "model_module": "@jupyter-widgets/controls",
      "model_module_version": "2.0.0",
      "model_name": "ButtonModel",
      "state": {
       "button_style": "primary",
       "description": "Clear",
       "layout": "IPY_MODEL_45b4cd8890834d6bb6e036e07c8ca55d",
       "style": "IPY_MODEL_2934216d79d0422795b10a92f49cf206",
       "tooltip": null
      }
     },
     "777dd1730d304add9519bcdba3de9a10": {
      "model_module": "@jupyter-widgets/controls",
      "model_module_version": "2.0.0",
      "model_name": "HTMLStyleModel",
      "state": {
       "description_width": "",
       "font_size": null,
       "text_color": null
      }
     },
     "7d3eceb531f5479d85f027815dd19cca": {
      "model_module": "@jupyter-widgets/base",
      "model_module_version": "2.0.0",
      "model_name": "LayoutModel",
      "state": {
       "margin": "0px 0px 10px 0px"
      }
     },
     "82059432bb8b4b6c9eb76c5e56cb41b6": {
      "model_module": "@jupyter-widgets/base",
      "model_module_version": "2.0.0",
      "model_name": "LayoutModel",
      "state": {
       "width": "190px"
      }
     },
     "9169f17a16f744d69e52215eb652ef04": {
      "model_module": "@jupyter-widgets/base",
      "model_module_version": "2.0.0",
      "model_name": "LayoutModel",
      "state": {
       "width": "70px"
      }
     },
     "9cf7c91466a6465692bf6bf9849c7dd9": {
      "model_module": "@jupyter-widgets/controls",
      "model_module_version": "2.0.0",
      "model_name": "HTMLStyleModel",
      "state": {
       "description_width": "",
       "font_size": null,
       "text_color": null
      }
     },
     "be2045a9bf484f0c96041c59f05c9c48": {
      "model_module": "@jupyter-widgets/controls",
      "model_module_version": "2.0.0",
      "model_name": "HBoxModel",
      "state": {
       "children": [
        "IPY_MODEL_536ccdb5f46b4a689de0a907a38251b9",
        "IPY_MODEL_f4a244c84fb94f688fb39fa40f90c1d6",
        "IPY_MODEL_32b639b49f804a2eb2063c181affd7b9",
        "IPY_MODEL_cd17de31acc64d648aa7a468e8ea2ee0",
        "IPY_MODEL_2eaadf4c2a074ca8baf1abe100180767"
       ],
       "layout": "IPY_MODEL_20a8811cb75b4b1794aac29c8d44afec"
      }
     },
     "cd17de31acc64d648aa7a468e8ea2ee0": {
      "model_module": "@jupyter-widgets/controls",
      "model_module_version": "2.0.0",
      "model_name": "HTMLModel",
      "state": {
       "layout": "IPY_MODEL_9169f17a16f744d69e52215eb652ef04",
       "style": "IPY_MODEL_9cf7c91466a6465692bf6bf9849c7dd9",
       "value": "<h5>Queue</h5>"
      }
     },
     "d506c7c3290043519ab17e968b44d548": {
      "model_module": "@jupyter-widgets/controls",
      "model_module_version": "2.0.0",
      "model_name": "HTMLModel",
      "state": {
       "layout": "IPY_MODEL_7d3eceb531f5479d85f027815dd19cca",
       "style": "IPY_MODEL_f6058dade54648319bddea5ebe32b444",
       "value": "<p style='font-family: IBM Plex Sans, Arial, Helvetica, sans-serif; font-size: 20px; font-weight: medium;'>Circuit Properties</p>"
      }
     },
     "f4a244c84fb94f688fb39fa40f90c1d6": {
      "model_module": "@jupyter-widgets/controls",
      "model_module_version": "2.0.0",
      "model_name": "HTMLModel",
      "state": {
       "layout": "IPY_MODEL_3bd73bf36d9f4ab083a5255a952b9a4d",
       "style": "IPY_MODEL_777dd1730d304add9519bcdba3de9a10",
       "value": "<h5>Backend</h5>"
      }
     },
     "f6058dade54648319bddea5ebe32b444": {
      "model_module": "@jupyter-widgets/controls",
      "model_module_version": "2.0.0",
      "model_name": "HTMLStyleModel",
      "state": {
       "description_width": "",
       "font_size": null,
       "text_color": null
      }
     }
    },
    "version_major": 2,
    "version_minor": 0
   }
  }
 },
 "nbformat": 4,
 "nbformat_minor": 5
}
