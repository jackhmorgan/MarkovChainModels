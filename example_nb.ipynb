{
 "cells": [
  {
   "cell_type": "code",
   "execution_count": 1,
   "metadata": {},
   "outputs": [],
   "source": [
    "from markov_chain_models import (DynamicCreditRisk, \n",
    "                                 construct_mlae_circuits, \n",
    "                                 compute_mle, \n",
    "                                 EstimationProblem)"
   ]
  },
  {
   "cell_type": "code",
   "execution_count": 2,
   "metadata": {},
   "outputs": [],
   "source": [
    "# define state prepartaion circuit\n",
    "state_prepation = DynamicCreditRisk(loss=1,\n",
    "                                    time_steps=3)\n",
    "\n",
    "# create Estimation problem\n",
    "problem = EstimationProblem(\n",
    "    state_preparation=state_prepation,  # A operator\n",
    "    objective_qubits=state_prepation.objective,  # the \"good\" state Psi1 is identified as measuring |1> in qubit 0\n",
    ")\n",
    "\n",
    "# contruct mlae circuits with an evaluation schedule of [0,1,2,4]\n",
    "circuits = construct_mlae_circuits(estimation_problem=problem, \n",
    "                                   measurement=True)"
   ]
  },
  {
   "cell_type": "code",
   "execution_count": 3,
   "metadata": {},
   "outputs": [],
   "source": [
    "from qiskit_aer import AerSimulator\n",
    "from qiskit import transpile\n",
    "\n",
    "# set up simulator\n",
    "simulator = AerSimulator()"
   ]
  },
  {
   "cell_type": "code",
   "execution_count": 4,
   "metadata": {},
   "outputs": [],
   "source": [
    "# transpile ciruits and run simulations\n",
    "transpiled_circuits = [transpile(circuit, simulator) for circuit in circuits]\n",
    "job = simulator.run(transpiled_circuits, shots=20000)\n",
    "results = job.result().get_counts()"
   ]
  },
  {
   "cell_type": "code",
   "execution_count": 5,
   "metadata": {},
   "outputs": [
    {
     "data": {
      "text/plain": [
       "np.float64(0.0799792275325163)"
      ]
     },
     "execution_count": 5,
     "metadata": {},
     "output_type": "execute_result"
    }
   ],
   "source": [
    "# Calculate the MLAE based on the circuit results\n",
    "compute_mle(results, problem)"
   ]
  }
 ],
 "metadata": {
  "kernelspec": {
   "display_name": "Python 3",
   "language": "python",
   "name": "python3"
  },
  "language_info": {
   "codemirror_mode": {
    "name": "ipython",
    "version": 3
   },
   "file_extension": ".py",
   "mimetype": "text/x-python",
   "name": "python",
   "nbconvert_exporter": "python",
   "pygments_lexer": "ipython3",
   "version": "3.11.0"
  }
 },
 "nbformat": 4,
 "nbformat_minor": 2
}
